{
  "nbformat": 4,
  "nbformat_minor": 0,
  "metadata": {
    "colab": {
      "provenance": []
    },
    "kernelspec": {
      "name": "python3",
      "display_name": "Python 3"
    },
    "language_info": {
      "name": "python"
    }
  },
  "cells": [
    {
      "cell_type": "markdown",
      "source": [
        "# Data606- PaperCraft Project Dataset Exploration"
      ],
      "metadata": {
        "id": "GvuRiErvgi7b"
      }
    },
    {
      "cell_type": "markdown",
      "source": [
        "## Import Libraries"
      ],
      "metadata": {
        "id": "lcLUffbbgs_p"
      }
    },
    {
      "cell_type": "code",
      "execution_count": 14,
      "metadata": {
        "id": "JJpOnz-4Xs8v",
        "colab": {
          "base_uri": "https://localhost:8080/"
        },
        "outputId": "5d95d2a7-8b0f-4e02-d5d5-d63807dba1dd"
      },
      "outputs": [
        {
          "output_type": "stream",
          "name": "stderr",
          "text": [
            "[nltk_data] Downloading package stopwords to /root/nltk_data...\n",
            "[nltk_data]   Package stopwords is already up-to-date!\n"
          ]
        },
        {
          "output_type": "execute_result",
          "data": {
            "text/plain": [
              "True"
            ]
          },
          "metadata": {},
          "execution_count": 14
        }
      ],
      "source": [
        "import requests\n",
        "import csv\n",
        "import xml.etree.ElementTree as ET\n",
        "import uuid\n",
        "import numpy as np\n",
        "from time import sleep\n",
        "import pandas as pd\n",
        "import seaborn as sns\n",
        "import nltk\n",
        "import matplotlib.pyplot as plt\n",
        "nltk.download('stopwords')"
      ]
    },
    {
      "cell_type": "markdown",
      "source": [
        "## Dataset Preparation (Scraping)"
      ],
      "metadata": {
        "id": "G9X0uIm2hNg4"
      }
    },
    {
      "cell_type": "code",
      "source": [
        "def get_data(keyword, category, sortby, sort_order, max_results, start):\n",
        "\n",
        "    url = f\"http://export.arxiv.org/api/query?search_query=cat:{category}&max_results={max_results}&sort_by={sortby}&sort_order{sort_order}&start={start}\"\n",
        "\n",
        "    response = requests.get(url)\n",
        "\n",
        "    root = ET.fromstring(response.content)\n",
        "    data = []\n",
        "    for entry in root.findall('{http://www.w3.org/2005/Atom}entry'):\n",
        "        title = entry.find('{http://www.w3.org/2005/Atom}title').text\n",
        "        summary = entry.find('{http://www.w3.org/2005/Atom}summary').text\n",
        "        author = entry.find('{http://www.w3.org/2005/Atom}author/{http://www.w3.org/2005/Atom}name').text\n",
        "        published = entry.find('{http://www.w3.org/2005/Atom}published').text\n",
        "        link = entry.find('{http://www.w3.org/2005/Atom}link[@type=\"text/html\"]')\n",
        "        if link is not None:\n",
        "            link = link.attrib['href']\n",
        "\n",
        "        data.append([uuid.uuid4(), title, summary, author, published, link])\n",
        "    return data"
      ],
      "metadata": {
        "id": "jfxGKHPJhPvm"
      },
      "execution_count": null,
      "outputs": []
    },
    {
      "cell_type": "markdown",
      "source": [
        "## Exploratory Data Analysis"
      ],
      "metadata": {
        "id": "abMptmdeElHM"
      }
    },
    {
      "cell_type": "markdown",
      "source": [
        "Importing Dataset with Pandas"
      ],
      "metadata": {
        "id": "m--X--uu5ulX"
      }
    },
    {
      "cell_type": "code",
      "source": [
        "df=pd.read_csv('papers_data2.csv')\n",
        "df = df[['id', 'Title', 'Summary', 'Authors', 'Published', 'Link']]"
      ],
      "metadata": {
        "id": "QfTflV9W0H2F"
      },
      "execution_count": 2,
      "outputs": []
    },
    {
      "cell_type": "markdown",
      "source": [
        "Columns of the dataset are"
      ],
      "metadata": {
        "id": "lRzGUbpiEDVx"
      }
    },
    {
      "cell_type": "code",
      "source": [
        "df.columns"
      ],
      "metadata": {
        "colab": {
          "base_uri": "https://localhost:8080/"
        },
        "id": "4qqyTTaVW8SL",
        "outputId": "06fcb082-2deb-4711-a72e-e59f89356884"
      },
      "execution_count": 3,
      "outputs": [
        {
          "output_type": "execute_result",
          "data": {
            "text/plain": [
              "Index(['id', 'Title', 'Summary', 'Authors', 'Published', 'Link'], dtype='object')"
            ]
          },
          "metadata": {},
          "execution_count": 3
        }
      ]
    },
    {
      "cell_type": "markdown",
      "source": [
        "Dataset Size:"
      ],
      "metadata": {
        "id": "-N1KIPQ452ER"
      }
    },
    {
      "cell_type": "code",
      "source": [
        "print(\"Shape of the dataset \",df.shape)"
      ],
      "metadata": {
        "colab": {
          "base_uri": "https://localhost:8080/"
        },
        "id": "DlQcXjRG0dTh",
        "outputId": "f95e4ea0-c70c-49f1-e8df-71d2a739a195"
      },
      "execution_count": 7,
      "outputs": [
        {
          "output_type": "stream",
          "name": "stdout",
          "text": [
            "Shape of the dataset  (9500, 6)\n"
          ]
        }
      ]
    },
    {
      "cell_type": "markdown",
      "source": [
        "Checking sample Titles of some of the research papers"
      ],
      "metadata": {
        "id": "pixKp3MpEUlh"
      }
    },
    {
      "cell_type": "code",
      "source": [
        "df['Title'].head()"
      ],
      "metadata": {
        "colab": {
          "base_uri": "https://localhost:8080/"
        },
        "id": "wNufZp1V1On5",
        "outputId": "c78df414-efc1-4e20-f5e4-7ffdfe14f3f2"
      },
      "execution_count": 8,
      "outputs": [
        {
          "output_type": "execute_result",
          "data": {
            "text/plain": [
              "0    A Market-Oriented Programming Environment and ...\n",
              "1              An Empirical Analysis of Search in GSAT\n",
              "2    The Difficulties of Learning Logic Programs wi...\n",
              "3    Software Agents: Completing Patterns and Const...\n",
              "4    Decidable Reasoning in Terminological Knowledg...\n",
              "Name: Title, dtype: object"
            ]
          },
          "metadata": {},
          "execution_count": 8
        }
      ]
    },
    {
      "cell_type": "markdown",
      "source": [
        "Dataset Information"
      ],
      "metadata": {
        "id": "KDc9AlFA57MK"
      }
    },
    {
      "cell_type": "code",
      "source": [
        "df.info()"
      ],
      "metadata": {
        "colab": {
          "base_uri": "https://localhost:8080/"
        },
        "id": "-x5Vd_jE0bnf",
        "outputId": "cf55b473-15fe-426f-ee5a-3c73daa507a4"
      },
      "execution_count": null,
      "outputs": [
        {
          "output_type": "stream",
          "name": "stdout",
          "text": [
            "<class 'pandas.core.frame.DataFrame'>\n",
            "RangeIndex: 9500 entries, 0 to 9499\n",
            "Data columns (total 6 columns):\n",
            " #   Column     Non-Null Count  Dtype \n",
            "---  ------     --------------  ----- \n",
            " 0   id         9500 non-null   object\n",
            " 1   Title      9500 non-null   object\n",
            " 2   Summary    9500 non-null   object\n",
            " 3   Authors    9500 non-null   object\n",
            " 4   Published  9500 non-null   object\n",
            " 5   Link       9500 non-null   object\n",
            "dtypes: object(6)\n",
            "memory usage: 445.4+ KB\n"
          ]
        }
      ]
    },
    {
      "cell_type": "markdown",
      "source": [
        "Sample Values"
      ],
      "metadata": {
        "id": "lPBZEevH5-pQ"
      }
    },
    {
      "cell_type": "code",
      "source": [
        "df.head()"
      ],
      "metadata": {
        "colab": {
          "base_uri": "https://localhost:8080/",
          "height": 380
        },
        "id": "ppEUWMQ-Xunu",
        "outputId": "70900386-5472-40c7-8da1-a9b3c1e063a7"
      },
      "execution_count": null,
      "outputs": [
        {
          "output_type": "execute_result",
          "data": {
            "text/plain": [
              "                                     id  \\\n",
              "0  774373a4-8aa1-49ae-9707-4a20a6c3558d   \n",
              "1  3aa3b1eb-6219-4f6a-8025-9708e1c3cba5   \n",
              "2  e0a52b84-b04e-413c-8f4e-ef13b190be7a   \n",
              "3  0cece879-3e29-4faf-90e5-2e2c9b19aad0   \n",
              "4  aa9305bb-b2db-49c3-9cdb-904741f57596   \n",
              "\n",
              "                                               Title  \\\n",
              "0  A Market-Oriented Programming Environment and ...   \n",
              "1            An Empirical Analysis of Search in GSAT   \n",
              "2  The Difficulties of Learning Logic Programs wi...   \n",
              "3  Software Agents: Completing Patterns and Const...   \n",
              "4  Decidable Reasoning in Terminological Knowledg...   \n",
              "\n",
              "                                             Summary          Authors  \\\n",
              "0    Market price systems constitute a well-under...    M. P. Wellman   \n",
              "1    We describe an extensive study of search in ...       I. P. Gent   \n",
              "2    As real logic programmers normally use cut (...     F. Bergadano   \n",
              "3    To support the goal of allowing users to rec...  J. C. Schlimmer   \n",
              "4    Terminological knowledge representation syst...      M. Buchheit   \n",
              "\n",
              "              Published                               Link  \n",
              "0  1993-08-01T00:00:00Z  http://arxiv.org/abs/cs/9308102v1  \n",
              "1  1993-09-01T00:00:00Z  http://arxiv.org/abs/cs/9309101v1  \n",
              "2  1993-11-01T00:00:00Z  http://arxiv.org/abs/cs/9311101v1  \n",
              "3  1993-11-01T00:00:00Z  http://arxiv.org/abs/cs/9311102v1  \n",
              "4  1993-12-01T00:00:00Z  http://arxiv.org/abs/cs/9312101v1  "
            ],
            "text/html": [
              "\n",
              "  <div id=\"df-cd67b25d-2465-4fb7-aeef-9592ffe3243b\" class=\"colab-df-container\">\n",
              "    <div>\n",
              "<style scoped>\n",
              "    .dataframe tbody tr th:only-of-type {\n",
              "        vertical-align: middle;\n",
              "    }\n",
              "\n",
              "    .dataframe tbody tr th {\n",
              "        vertical-align: top;\n",
              "    }\n",
              "\n",
              "    .dataframe thead th {\n",
              "        text-align: right;\n",
              "    }\n",
              "</style>\n",
              "<table border=\"1\" class=\"dataframe\">\n",
              "  <thead>\n",
              "    <tr style=\"text-align: right;\">\n",
              "      <th></th>\n",
              "      <th>id</th>\n",
              "      <th>Title</th>\n",
              "      <th>Summary</th>\n",
              "      <th>Authors</th>\n",
              "      <th>Published</th>\n",
              "      <th>Link</th>\n",
              "    </tr>\n",
              "  </thead>\n",
              "  <tbody>\n",
              "    <tr>\n",
              "      <th>0</th>\n",
              "      <td>774373a4-8aa1-49ae-9707-4a20a6c3558d</td>\n",
              "      <td>A Market-Oriented Programming Environment and ...</td>\n",
              "      <td>Market price systems constitute a well-under...</td>\n",
              "      <td>M. P. Wellman</td>\n",
              "      <td>1993-08-01T00:00:00Z</td>\n",
              "      <td>http://arxiv.org/abs/cs/9308102v1</td>\n",
              "    </tr>\n",
              "    <tr>\n",
              "      <th>1</th>\n",
              "      <td>3aa3b1eb-6219-4f6a-8025-9708e1c3cba5</td>\n",
              "      <td>An Empirical Analysis of Search in GSAT</td>\n",
              "      <td>We describe an extensive study of search in ...</td>\n",
              "      <td>I. P. Gent</td>\n",
              "      <td>1993-09-01T00:00:00Z</td>\n",
              "      <td>http://arxiv.org/abs/cs/9309101v1</td>\n",
              "    </tr>\n",
              "    <tr>\n",
              "      <th>2</th>\n",
              "      <td>e0a52b84-b04e-413c-8f4e-ef13b190be7a</td>\n",
              "      <td>The Difficulties of Learning Logic Programs wi...</td>\n",
              "      <td>As real logic programmers normally use cut (...</td>\n",
              "      <td>F. Bergadano</td>\n",
              "      <td>1993-11-01T00:00:00Z</td>\n",
              "      <td>http://arxiv.org/abs/cs/9311101v1</td>\n",
              "    </tr>\n",
              "    <tr>\n",
              "      <th>3</th>\n",
              "      <td>0cece879-3e29-4faf-90e5-2e2c9b19aad0</td>\n",
              "      <td>Software Agents: Completing Patterns and Const...</td>\n",
              "      <td>To support the goal of allowing users to rec...</td>\n",
              "      <td>J. C. Schlimmer</td>\n",
              "      <td>1993-11-01T00:00:00Z</td>\n",
              "      <td>http://arxiv.org/abs/cs/9311102v1</td>\n",
              "    </tr>\n",
              "    <tr>\n",
              "      <th>4</th>\n",
              "      <td>aa9305bb-b2db-49c3-9cdb-904741f57596</td>\n",
              "      <td>Decidable Reasoning in Terminological Knowledg...</td>\n",
              "      <td>Terminological knowledge representation syst...</td>\n",
              "      <td>M. Buchheit</td>\n",
              "      <td>1993-12-01T00:00:00Z</td>\n",
              "      <td>http://arxiv.org/abs/cs/9312101v1</td>\n",
              "    </tr>\n",
              "  </tbody>\n",
              "</table>\n",
              "</div>\n",
              "    <div class=\"colab-df-buttons\">\n",
              "\n",
              "  <div class=\"colab-df-container\">\n",
              "    <button class=\"colab-df-convert\" onclick=\"convertToInteractive('df-cd67b25d-2465-4fb7-aeef-9592ffe3243b')\"\n",
              "            title=\"Convert this dataframe to an interactive table.\"\n",
              "            style=\"display:none;\">\n",
              "\n",
              "  <svg xmlns=\"http://www.w3.org/2000/svg\" height=\"24px\" viewBox=\"0 -960 960 960\">\n",
              "    <path d=\"M120-120v-720h720v720H120Zm60-500h600v-160H180v160Zm220 220h160v-160H400v160Zm0 220h160v-160H400v160ZM180-400h160v-160H180v160Zm440 0h160v-160H620v160ZM180-180h160v-160H180v160Zm440 0h160v-160H620v160Z\"/>\n",
              "  </svg>\n",
              "    </button>\n",
              "\n",
              "  <style>\n",
              "    .colab-df-container {\n",
              "      display:flex;\n",
              "      gap: 12px;\n",
              "    }\n",
              "\n",
              "    .colab-df-convert {\n",
              "      background-color: #E8F0FE;\n",
              "      border: none;\n",
              "      border-radius: 50%;\n",
              "      cursor: pointer;\n",
              "      display: none;\n",
              "      fill: #1967D2;\n",
              "      height: 32px;\n",
              "      padding: 0 0 0 0;\n",
              "      width: 32px;\n",
              "    }\n",
              "\n",
              "    .colab-df-convert:hover {\n",
              "      background-color: #E2EBFA;\n",
              "      box-shadow: 0px 1px 2px rgba(60, 64, 67, 0.3), 0px 1px 3px 1px rgba(60, 64, 67, 0.15);\n",
              "      fill: #174EA6;\n",
              "    }\n",
              "\n",
              "    .colab-df-buttons div {\n",
              "      margin-bottom: 4px;\n",
              "    }\n",
              "\n",
              "    [theme=dark] .colab-df-convert {\n",
              "      background-color: #3B4455;\n",
              "      fill: #D2E3FC;\n",
              "    }\n",
              "\n",
              "    [theme=dark] .colab-df-convert:hover {\n",
              "      background-color: #434B5C;\n",
              "      box-shadow: 0px 1px 3px 1px rgba(0, 0, 0, 0.15);\n",
              "      filter: drop-shadow(0px 1px 2px rgba(0, 0, 0, 0.3));\n",
              "      fill: #FFFFFF;\n",
              "    }\n",
              "  </style>\n",
              "\n",
              "    <script>\n",
              "      const buttonEl =\n",
              "        document.querySelector('#df-cd67b25d-2465-4fb7-aeef-9592ffe3243b button.colab-df-convert');\n",
              "      buttonEl.style.display =\n",
              "        google.colab.kernel.accessAllowed ? 'block' : 'none';\n",
              "\n",
              "      async function convertToInteractive(key) {\n",
              "        const element = document.querySelector('#df-cd67b25d-2465-4fb7-aeef-9592ffe3243b');\n",
              "        const dataTable =\n",
              "          await google.colab.kernel.invokeFunction('convertToInteractive',\n",
              "                                                    [key], {});\n",
              "        if (!dataTable) return;\n",
              "\n",
              "        const docLinkHtml = 'Like what you see? Visit the ' +\n",
              "          '<a target=\"_blank\" href=https://colab.research.google.com/notebooks/data_table.ipynb>data table notebook</a>'\n",
              "          + ' to learn more about interactive tables.';\n",
              "        element.innerHTML = '';\n",
              "        dataTable['output_type'] = 'display_data';\n",
              "        await google.colab.output.renderOutput(dataTable, element);\n",
              "        const docLink = document.createElement('div');\n",
              "        docLink.innerHTML = docLinkHtml;\n",
              "        element.appendChild(docLink);\n",
              "      }\n",
              "    </script>\n",
              "  </div>\n",
              "\n",
              "\n",
              "<div id=\"df-f510fd4a-0629-4656-baa1-a6b8b5b4c92a\">\n",
              "  <button class=\"colab-df-quickchart\" onclick=\"quickchart('df-f510fd4a-0629-4656-baa1-a6b8b5b4c92a')\"\n",
              "            title=\"Suggest charts.\"\n",
              "            style=\"display:none;\">\n",
              "\n",
              "<svg xmlns=\"http://www.w3.org/2000/svg\" height=\"24px\"viewBox=\"0 0 24 24\"\n",
              "     width=\"24px\">\n",
              "    <g>\n",
              "        <path d=\"M19 3H5c-1.1 0-2 .9-2 2v14c0 1.1.9 2 2 2h14c1.1 0 2-.9 2-2V5c0-1.1-.9-2-2-2zM9 17H7v-7h2v7zm4 0h-2V7h2v10zm4 0h-2v-4h2v4z\"/>\n",
              "    </g>\n",
              "</svg>\n",
              "  </button>\n",
              "\n",
              "<style>\n",
              "  .colab-df-quickchart {\n",
              "      --bg-color: #E8F0FE;\n",
              "      --fill-color: #1967D2;\n",
              "      --hover-bg-color: #E2EBFA;\n",
              "      --hover-fill-color: #174EA6;\n",
              "      --disabled-fill-color: #AAA;\n",
              "      --disabled-bg-color: #DDD;\n",
              "  }\n",
              "\n",
              "  [theme=dark] .colab-df-quickchart {\n",
              "      --bg-color: #3B4455;\n",
              "      --fill-color: #D2E3FC;\n",
              "      --hover-bg-color: #434B5C;\n",
              "      --hover-fill-color: #FFFFFF;\n",
              "      --disabled-bg-color: #3B4455;\n",
              "      --disabled-fill-color: #666;\n",
              "  }\n",
              "\n",
              "  .colab-df-quickchart {\n",
              "    background-color: var(--bg-color);\n",
              "    border: none;\n",
              "    border-radius: 50%;\n",
              "    cursor: pointer;\n",
              "    display: none;\n",
              "    fill: var(--fill-color);\n",
              "    height: 32px;\n",
              "    padding: 0;\n",
              "    width: 32px;\n",
              "  }\n",
              "\n",
              "  .colab-df-quickchart:hover {\n",
              "    background-color: var(--hover-bg-color);\n",
              "    box-shadow: 0 1px 2px rgba(60, 64, 67, 0.3), 0 1px 3px 1px rgba(60, 64, 67, 0.15);\n",
              "    fill: var(--button-hover-fill-color);\n",
              "  }\n",
              "\n",
              "  .colab-df-quickchart-complete:disabled,\n",
              "  .colab-df-quickchart-complete:disabled:hover {\n",
              "    background-color: var(--disabled-bg-color);\n",
              "    fill: var(--disabled-fill-color);\n",
              "    box-shadow: none;\n",
              "  }\n",
              "\n",
              "  .colab-df-spinner {\n",
              "    border: 2px solid var(--fill-color);\n",
              "    border-color: transparent;\n",
              "    border-bottom-color: var(--fill-color);\n",
              "    animation:\n",
              "      spin 1s steps(1) infinite;\n",
              "  }\n",
              "\n",
              "  @keyframes spin {\n",
              "    0% {\n",
              "      border-color: transparent;\n",
              "      border-bottom-color: var(--fill-color);\n",
              "      border-left-color: var(--fill-color);\n",
              "    }\n",
              "    20% {\n",
              "      border-color: transparent;\n",
              "      border-left-color: var(--fill-color);\n",
              "      border-top-color: var(--fill-color);\n",
              "    }\n",
              "    30% {\n",
              "      border-color: transparent;\n",
              "      border-left-color: var(--fill-color);\n",
              "      border-top-color: var(--fill-color);\n",
              "      border-right-color: var(--fill-color);\n",
              "    }\n",
              "    40% {\n",
              "      border-color: transparent;\n",
              "      border-right-color: var(--fill-color);\n",
              "      border-top-color: var(--fill-color);\n",
              "    }\n",
              "    60% {\n",
              "      border-color: transparent;\n",
              "      border-right-color: var(--fill-color);\n",
              "    }\n",
              "    80% {\n",
              "      border-color: transparent;\n",
              "      border-right-color: var(--fill-color);\n",
              "      border-bottom-color: var(--fill-color);\n",
              "    }\n",
              "    90% {\n",
              "      border-color: transparent;\n",
              "      border-bottom-color: var(--fill-color);\n",
              "    }\n",
              "  }\n",
              "</style>\n",
              "\n",
              "  <script>\n",
              "    async function quickchart(key) {\n",
              "      const quickchartButtonEl =\n",
              "        document.querySelector('#' + key + ' button');\n",
              "      quickchartButtonEl.disabled = true;  // To prevent multiple clicks.\n",
              "      quickchartButtonEl.classList.add('colab-df-spinner');\n",
              "      try {\n",
              "        const charts = await google.colab.kernel.invokeFunction(\n",
              "            'suggestCharts', [key], {});\n",
              "      } catch (error) {\n",
              "        console.error('Error during call to suggestCharts:', error);\n",
              "      }\n",
              "      quickchartButtonEl.classList.remove('colab-df-spinner');\n",
              "      quickchartButtonEl.classList.add('colab-df-quickchart-complete');\n",
              "    }\n",
              "    (() => {\n",
              "      let quickchartButtonEl =\n",
              "        document.querySelector('#df-f510fd4a-0629-4656-baa1-a6b8b5b4c92a button');\n",
              "      quickchartButtonEl.style.display =\n",
              "        google.colab.kernel.accessAllowed ? 'block' : 'none';\n",
              "    })();\n",
              "  </script>\n",
              "</div>\n",
              "    </div>\n",
              "  </div>\n"
            ]
          },
          "metadata": {},
          "execution_count": 173
        }
      ]
    },
    {
      "cell_type": "markdown",
      "source": [
        "## Preprocessing"
      ],
      "metadata": {
        "id": "6sfo0fy76PCw"
      }
    },
    {
      "cell_type": "markdown",
      "source": [
        "Summary Statistics"
      ],
      "metadata": {
        "id": "rhO8TL1q93nZ"
      }
    },
    {
      "cell_type": "code",
      "source": [
        "df.describe(include='object')"
      ],
      "metadata": {
        "colab": {
          "base_uri": "https://localhost:8080/",
          "height": 210
        },
        "id": "heC-Y7WV8x5G",
        "outputId": "8fea9475-6878-4aa5-ef6d-e5bd5e5e0626"
      },
      "execution_count": 9,
      "outputs": [
        {
          "output_type": "execute_result",
          "data": {
            "text/plain": [
              "                                          id                            Title  \\\n",
              "count                                   9500                             9500   \n",
              "unique                                  9500                             9479   \n",
              "top     774373a4-8aa1-49ae-9707-4a20a6c3558d  Ordinal Monte Carlo Tree Search   \n",
              "freq                                       1                                2   \n",
              "\n",
              "                                                  Summary            Authors  \\\n",
              "count                                                9500               9500   \n",
              "unique                                               9492               6519   \n",
              "top       Markov decision processes (MDPs) are widely ...  Joseph Y. Halpern   \n",
              "freq                                                    2                 43   \n",
              "\n",
              "                   Published                               Link  \n",
              "count                   9500                               9500  \n",
              "unique                  9401                               9500  \n",
              "top     2012-02-14T16:41:17Z  http://arxiv.org/abs/cs/9308102v1  \n",
              "freq                      25                                  1  "
            ],
            "text/html": [
              "\n",
              "  <div id=\"df-3064e02f-8007-40b3-9e03-b3bd2458bbe6\" class=\"colab-df-container\">\n",
              "    <div>\n",
              "<style scoped>\n",
              "    .dataframe tbody tr th:only-of-type {\n",
              "        vertical-align: middle;\n",
              "    }\n",
              "\n",
              "    .dataframe tbody tr th {\n",
              "        vertical-align: top;\n",
              "    }\n",
              "\n",
              "    .dataframe thead th {\n",
              "        text-align: right;\n",
              "    }\n",
              "</style>\n",
              "<table border=\"1\" class=\"dataframe\">\n",
              "  <thead>\n",
              "    <tr style=\"text-align: right;\">\n",
              "      <th></th>\n",
              "      <th>id</th>\n",
              "      <th>Title</th>\n",
              "      <th>Summary</th>\n",
              "      <th>Authors</th>\n",
              "      <th>Published</th>\n",
              "      <th>Link</th>\n",
              "    </tr>\n",
              "  </thead>\n",
              "  <tbody>\n",
              "    <tr>\n",
              "      <th>count</th>\n",
              "      <td>9500</td>\n",
              "      <td>9500</td>\n",
              "      <td>9500</td>\n",
              "      <td>9500</td>\n",
              "      <td>9500</td>\n",
              "      <td>9500</td>\n",
              "    </tr>\n",
              "    <tr>\n",
              "      <th>unique</th>\n",
              "      <td>9500</td>\n",
              "      <td>9479</td>\n",
              "      <td>9492</td>\n",
              "      <td>6519</td>\n",
              "      <td>9401</td>\n",
              "      <td>9500</td>\n",
              "    </tr>\n",
              "    <tr>\n",
              "      <th>top</th>\n",
              "      <td>774373a4-8aa1-49ae-9707-4a20a6c3558d</td>\n",
              "      <td>Ordinal Monte Carlo Tree Search</td>\n",
              "      <td>Markov decision processes (MDPs) are widely ...</td>\n",
              "      <td>Joseph Y. Halpern</td>\n",
              "      <td>2012-02-14T16:41:17Z</td>\n",
              "      <td>http://arxiv.org/abs/cs/9308102v1</td>\n",
              "    </tr>\n",
              "    <tr>\n",
              "      <th>freq</th>\n",
              "      <td>1</td>\n",
              "      <td>2</td>\n",
              "      <td>2</td>\n",
              "      <td>43</td>\n",
              "      <td>25</td>\n",
              "      <td>1</td>\n",
              "    </tr>\n",
              "  </tbody>\n",
              "</table>\n",
              "</div>\n",
              "    <div class=\"colab-df-buttons\">\n",
              "\n",
              "  <div class=\"colab-df-container\">\n",
              "    <button class=\"colab-df-convert\" onclick=\"convertToInteractive('df-3064e02f-8007-40b3-9e03-b3bd2458bbe6')\"\n",
              "            title=\"Convert this dataframe to an interactive table.\"\n",
              "            style=\"display:none;\">\n",
              "\n",
              "  <svg xmlns=\"http://www.w3.org/2000/svg\" height=\"24px\" viewBox=\"0 -960 960 960\">\n",
              "    <path d=\"M120-120v-720h720v720H120Zm60-500h600v-160H180v160Zm220 220h160v-160H400v160Zm0 220h160v-160H400v160ZM180-400h160v-160H180v160Zm440 0h160v-160H620v160ZM180-180h160v-160H180v160Zm440 0h160v-160H620v160Z\"/>\n",
              "  </svg>\n",
              "    </button>\n",
              "\n",
              "  <style>\n",
              "    .colab-df-container {\n",
              "      display:flex;\n",
              "      gap: 12px;\n",
              "    }\n",
              "\n",
              "    .colab-df-convert {\n",
              "      background-color: #E8F0FE;\n",
              "      border: none;\n",
              "      border-radius: 50%;\n",
              "      cursor: pointer;\n",
              "      display: none;\n",
              "      fill: #1967D2;\n",
              "      height: 32px;\n",
              "      padding: 0 0 0 0;\n",
              "      width: 32px;\n",
              "    }\n",
              "\n",
              "    .colab-df-convert:hover {\n",
              "      background-color: #E2EBFA;\n",
              "      box-shadow: 0px 1px 2px rgba(60, 64, 67, 0.3), 0px 1px 3px 1px rgba(60, 64, 67, 0.15);\n",
              "      fill: #174EA6;\n",
              "    }\n",
              "\n",
              "    .colab-df-buttons div {\n",
              "      margin-bottom: 4px;\n",
              "    }\n",
              "\n",
              "    [theme=dark] .colab-df-convert {\n",
              "      background-color: #3B4455;\n",
              "      fill: #D2E3FC;\n",
              "    }\n",
              "\n",
              "    [theme=dark] .colab-df-convert:hover {\n",
              "      background-color: #434B5C;\n",
              "      box-shadow: 0px 1px 3px 1px rgba(0, 0, 0, 0.15);\n",
              "      filter: drop-shadow(0px 1px 2px rgba(0, 0, 0, 0.3));\n",
              "      fill: #FFFFFF;\n",
              "    }\n",
              "  </style>\n",
              "\n",
              "    <script>\n",
              "      const buttonEl =\n",
              "        document.querySelector('#df-3064e02f-8007-40b3-9e03-b3bd2458bbe6 button.colab-df-convert');\n",
              "      buttonEl.style.display =\n",
              "        google.colab.kernel.accessAllowed ? 'block' : 'none';\n",
              "\n",
              "      async function convertToInteractive(key) {\n",
              "        const element = document.querySelector('#df-3064e02f-8007-40b3-9e03-b3bd2458bbe6');\n",
              "        const dataTable =\n",
              "          await google.colab.kernel.invokeFunction('convertToInteractive',\n",
              "                                                    [key], {});\n",
              "        if (!dataTable) return;\n",
              "\n",
              "        const docLinkHtml = 'Like what you see? Visit the ' +\n",
              "          '<a target=\"_blank\" href=https://colab.research.google.com/notebooks/data_table.ipynb>data table notebook</a>'\n",
              "          + ' to learn more about interactive tables.';\n",
              "        element.innerHTML = '';\n",
              "        dataTable['output_type'] = 'display_data';\n",
              "        await google.colab.output.renderOutput(dataTable, element);\n",
              "        const docLink = document.createElement('div');\n",
              "        docLink.innerHTML = docLinkHtml;\n",
              "        element.appendChild(docLink);\n",
              "      }\n",
              "    </script>\n",
              "  </div>\n",
              "\n",
              "\n",
              "<div id=\"df-f8c8764d-91a7-40cc-91ce-bc50235a6d75\">\n",
              "  <button class=\"colab-df-quickchart\" onclick=\"quickchart('df-f8c8764d-91a7-40cc-91ce-bc50235a6d75')\"\n",
              "            title=\"Suggest charts.\"\n",
              "            style=\"display:none;\">\n",
              "\n",
              "<svg xmlns=\"http://www.w3.org/2000/svg\" height=\"24px\"viewBox=\"0 0 24 24\"\n",
              "     width=\"24px\">\n",
              "    <g>\n",
              "        <path d=\"M19 3H5c-1.1 0-2 .9-2 2v14c0 1.1.9 2 2 2h14c1.1 0 2-.9 2-2V5c0-1.1-.9-2-2-2zM9 17H7v-7h2v7zm4 0h-2V7h2v10zm4 0h-2v-4h2v4z\"/>\n",
              "    </g>\n",
              "</svg>\n",
              "  </button>\n",
              "\n",
              "<style>\n",
              "  .colab-df-quickchart {\n",
              "      --bg-color: #E8F0FE;\n",
              "      --fill-color: #1967D2;\n",
              "      --hover-bg-color: #E2EBFA;\n",
              "      --hover-fill-color: #174EA6;\n",
              "      --disabled-fill-color: #AAA;\n",
              "      --disabled-bg-color: #DDD;\n",
              "  }\n",
              "\n",
              "  [theme=dark] .colab-df-quickchart {\n",
              "      --bg-color: #3B4455;\n",
              "      --fill-color: #D2E3FC;\n",
              "      --hover-bg-color: #434B5C;\n",
              "      --hover-fill-color: #FFFFFF;\n",
              "      --disabled-bg-color: #3B4455;\n",
              "      --disabled-fill-color: #666;\n",
              "  }\n",
              "\n",
              "  .colab-df-quickchart {\n",
              "    background-color: var(--bg-color);\n",
              "    border: none;\n",
              "    border-radius: 50%;\n",
              "    cursor: pointer;\n",
              "    display: none;\n",
              "    fill: var(--fill-color);\n",
              "    height: 32px;\n",
              "    padding: 0;\n",
              "    width: 32px;\n",
              "  }\n",
              "\n",
              "  .colab-df-quickchart:hover {\n",
              "    background-color: var(--hover-bg-color);\n",
              "    box-shadow: 0 1px 2px rgba(60, 64, 67, 0.3), 0 1px 3px 1px rgba(60, 64, 67, 0.15);\n",
              "    fill: var(--button-hover-fill-color);\n",
              "  }\n",
              "\n",
              "  .colab-df-quickchart-complete:disabled,\n",
              "  .colab-df-quickchart-complete:disabled:hover {\n",
              "    background-color: var(--disabled-bg-color);\n",
              "    fill: var(--disabled-fill-color);\n",
              "    box-shadow: none;\n",
              "  }\n",
              "\n",
              "  .colab-df-spinner {\n",
              "    border: 2px solid var(--fill-color);\n",
              "    border-color: transparent;\n",
              "    border-bottom-color: var(--fill-color);\n",
              "    animation:\n",
              "      spin 1s steps(1) infinite;\n",
              "  }\n",
              "\n",
              "  @keyframes spin {\n",
              "    0% {\n",
              "      border-color: transparent;\n",
              "      border-bottom-color: var(--fill-color);\n",
              "      border-left-color: var(--fill-color);\n",
              "    }\n",
              "    20% {\n",
              "      border-color: transparent;\n",
              "      border-left-color: var(--fill-color);\n",
              "      border-top-color: var(--fill-color);\n",
              "    }\n",
              "    30% {\n",
              "      border-color: transparent;\n",
              "      border-left-color: var(--fill-color);\n",
              "      border-top-color: var(--fill-color);\n",
              "      border-right-color: var(--fill-color);\n",
              "    }\n",
              "    40% {\n",
              "      border-color: transparent;\n",
              "      border-right-color: var(--fill-color);\n",
              "      border-top-color: var(--fill-color);\n",
              "    }\n",
              "    60% {\n",
              "      border-color: transparent;\n",
              "      border-right-color: var(--fill-color);\n",
              "    }\n",
              "    80% {\n",
              "      border-color: transparent;\n",
              "      border-right-color: var(--fill-color);\n",
              "      border-bottom-color: var(--fill-color);\n",
              "    }\n",
              "    90% {\n",
              "      border-color: transparent;\n",
              "      border-bottom-color: var(--fill-color);\n",
              "    }\n",
              "  }\n",
              "</style>\n",
              "\n",
              "  <script>\n",
              "    async function quickchart(key) {\n",
              "      const quickchartButtonEl =\n",
              "        document.querySelector('#' + key + ' button');\n",
              "      quickchartButtonEl.disabled = true;  // To prevent multiple clicks.\n",
              "      quickchartButtonEl.classList.add('colab-df-spinner');\n",
              "      try {\n",
              "        const charts = await google.colab.kernel.invokeFunction(\n",
              "            'suggestCharts', [key], {});\n",
              "      } catch (error) {\n",
              "        console.error('Error during call to suggestCharts:', error);\n",
              "      }\n",
              "      quickchartButtonEl.classList.remove('colab-df-spinner');\n",
              "      quickchartButtonEl.classList.add('colab-df-quickchart-complete');\n",
              "    }\n",
              "    (() => {\n",
              "      let quickchartButtonEl =\n",
              "        document.querySelector('#df-f8c8764d-91a7-40cc-91ce-bc50235a6d75 button');\n",
              "      quickchartButtonEl.style.display =\n",
              "        google.colab.kernel.accessAllowed ? 'block' : 'none';\n",
              "    })();\n",
              "  </script>\n",
              "</div>\n",
              "    </div>\n",
              "  </div>\n"
            ]
          },
          "metadata": {},
          "execution_count": 9
        }
      ]
    },
    {
      "cell_type": "markdown",
      "source": [
        "- Handling Missing Data/Null Values"
      ],
      "metadata": {
        "id": "jpC-iCNi9FBY"
      }
    },
    {
      "cell_type": "code",
      "source": [
        "df.isna().sum()"
      ],
      "metadata": {
        "colab": {
          "base_uri": "https://localhost:8080/"
        },
        "id": "OlOSXo2K88BF",
        "outputId": "b0cd4d62-77c9-42bc-c52b-c845095316a3"
      },
      "execution_count": 10,
      "outputs": [
        {
          "output_type": "execute_result",
          "data": {
            "text/plain": [
              "id           0\n",
              "Title        0\n",
              "Summary      0\n",
              "Authors      0\n",
              "Published    0\n",
              "Link         0\n",
              "dtype: int64"
            ]
          },
          "metadata": {},
          "execution_count": 10
        }
      ]
    },
    {
      "cell_type": "code",
      "source": [
        "df.nunique()"
      ],
      "metadata": {
        "colab": {
          "base_uri": "https://localhost:8080/"
        },
        "id": "pjYNPrnh9D7C",
        "outputId": "38457ce9-fdec-494e-b880-31ebcfbc9de1"
      },
      "execution_count": 11,
      "outputs": [
        {
          "output_type": "execute_result",
          "data": {
            "text/plain": [
              "id           9500\n",
              "Title        9479\n",
              "Summary      9492\n",
              "Authors      6519\n",
              "Published    9401\n",
              "Link         9500\n",
              "dtype: int64"
            ]
          },
          "metadata": {},
          "execution_count": 11
        }
      ]
    },
    {
      "cell_type": "markdown",
      "source": [
        "### Exploring Title length for different papers"
      ],
      "metadata": {
        "id": "8mNXR3X0A4iz"
      }
    },
    {
      "cell_type": "code",
      "source": [
        "Title_lengths = df['Title'].str.len()"
      ],
      "metadata": {
        "id": "4A8REHSdzXT6"
      },
      "execution_count": 12,
      "outputs": []
    },
    {
      "cell_type": "code",
      "source": [
        "sns.displot(Title_lengths)\n",
        "\n",
        "# Set the title for the plot\n",
        "plt.title(\"Distribution of Title Lengths\")\n",
        "\n",
        "# Show the plot\n",
        "plt.show()"
      ],
      "metadata": {
        "colab": {
          "base_uri": "https://localhost:8080/",
          "height": 529
        },
        "id": "MPxevmrBYlYd",
        "outputId": "d620a2be-9f88-4631-a745-eff64fe43db6"
      },
      "execution_count": 16,
      "outputs": [
        {
          "output_type": "display_data",
          "data": {
            "text/plain": [
              "<Figure size 500x500 with 1 Axes>"
            ],
            "image/png": "[encoded data removed]"
          },
          "metadata": {}
        }
      ]
    },
    {
      "cell_type": "code",
      "source": [
        "Summary_lengths = df['Summary'].str.len()"
      ],
      "metadata": {
        "id": "cfO1EFNR-iCN"
      },
      "execution_count": 18,
      "outputs": []
    },
    {
      "cell_type": "code",
      "source": [
        "sns.displot(Summary_lengths)\n",
        "\n",
        "# Set the title for the plot\n",
        "plt.title(\"Distribution of Summary Lengths\")\n",
        "\n",
        "# Show the plot\n",
        "plt.show()"
      ],
      "metadata": {
        "colab": {
          "base_uri": "https://localhost:8080/",
          "height": 529
        },
        "id": "J1RRNjoBaDSj",
        "outputId": "9be3373a-68e8-4098-8537-61379421b1f9"
      },
      "execution_count": 19,
      "outputs": [
        {
          "output_type": "display_data",
          "data": {
            "text/plain": [
              "<Figure size 500x500 with 1 Axes>"
            ],
            "image/png": "[encoded data removed]"
          },
          "metadata": {}
        }
      ]
    },
    {
      "cell_type": "markdown",
      "source": [
        "### Stopwords analysis"
      ],
      "metadata": {
        "id": "-f43k-hw_MjX"
      }
    },
    {
      "cell_type": "code",
      "source": [
        "import matplotlib.pyplot as plt\n",
        "import numpy as np\n",
        "from nltk.corpus import stopwords\n",
        "\n",
        "def plot_top_stopwords_barchart(text):\n",
        "    stop=set(stopwords.words('english'))\n",
        "    new= text.str.split()\n",
        "    new=new.values.tolist()\n",
        "    corpus=[word for i in new for word in i]\n",
        "    from collections import defaultdict\n",
        "    dic=defaultdict(int)\n",
        "    for word in corpus:\n",
        "        if word.lower() in stop:\n",
        "            dic[word]+=1\n",
        "\n",
        "    top=sorted(dic.items(), key=lambda x:x[1],reverse=True)[:10]\n",
        "    x,y=zip(*top)\n",
        "    plt.bar(x,y)"
      ],
      "metadata": {
        "id": "1XYin3cqAQIn"
      },
      "execution_count": 36,
      "outputs": []
    },
    {
      "cell_type": "code",
      "source": [
        "plot_top_stopwords_barchart(df['Title'])\n",
        "# Set the title for the plot\n",
        "plt.title(\"Top stopwords in Title\")\n",
        "\n",
        "# Show the plot\n",
        "plt.show()"
      ],
      "metadata": {
        "colab": {
          "base_uri": "https://localhost:8080/",
          "height": 452
        },
        "id": "M7Lb8kSz1xJC",
        "outputId": "e705fb34-b77b-4b7e-c08e-5896b8bc6bfc"
      },
      "execution_count": 38,
      "outputs": [
        {
          "output_type": "display_data",
          "data": {
            "text/plain": [
              "<Figure size 640x480 with 1 Axes>"
            ],
            "image/png": "[encoded data removed]"
          },
          "metadata": {}
        }
      ]
    },
    {
      "cell_type": "code",
      "source": [
        "plot_top_stopwords_barchart(df['Summary'])\n",
        "# Set the title for the plot\n",
        "plt.title(\"Top stopwords in Summary\")\n",
        "\n",
        "# Show the plot\n",
        "plt.show()"
      ],
      "metadata": {
        "colab": {
          "base_uri": "https://localhost:8080/",
          "height": 452
        },
        "id": "5FDZqCBbASZr",
        "outputId": "276b1d5b-9d02-4c9e-dd8f-4d06a39e9665"
      },
      "execution_count": 39,
      "outputs": [
        {
          "output_type": "display_data",
          "data": {
            "text/plain": [
              "<Figure size 640x480 with 1 Axes>"
            ],
            "image/png": "[encoded data removed]"
          },
          "metadata": {}
        }
      ]
    },
    {
      "cell_type": "code",
      "source": [
        "import seaborn as sns\n",
        "from nltk.corpus import stopwords\n",
        "from collections import  Counter\n",
        "\n",
        "def plot_top_non_stopwords_barchart(text):\n",
        "    stop=set(stopwords.words('english'))\n",
        "\n",
        "    new= text.str.split()\n",
        "    new=new.values.tolist()\n",
        "    corpus=[word for i in new for word in i]\n",
        "\n",
        "    counter=Counter(corpus)\n",
        "    most=counter.most_common()\n",
        "    x, y=[], []\n",
        "    for word,count in most[:40]:\n",
        "        if (word.lower() not in stop):\n",
        "            x.append(word)\n",
        "            y.append(count)\n",
        "\n",
        "    sns.barplot(x=y,y=x)"
      ],
      "metadata": {
        "id": "PEO2NhDZ_EZz"
      },
      "execution_count": 40,
      "outputs": []
    },
    {
      "cell_type": "code",
      "source": [
        "plot_top_non_stopwords_barchart(df['Title'])\n",
        "\n",
        "# Set the title for the plot\n",
        "plt.title(\"Top non stopwords in Title\")\n",
        "\n",
        "# Show the plot\n",
        "plt.show()"
      ],
      "metadata": {
        "colab": {
          "base_uri": "https://localhost:8080/",
          "height": 452
        },
        "id": "TxoSNeyA11f-",
        "outputId": "edb80137-3795-4238-cda1-310346097b37"
      },
      "execution_count": 41,
      "outputs": [
        {
          "output_type": "display_data",
          "data": {
            "text/plain": [
              "<Figure size 640x480 with 1 Axes>"
            ],
            "image/png": "[encoded data removed]"
          },
          "metadata": {}
        }
      ]
    },
    {
      "cell_type": "code",
      "source": [
        "plot_top_non_stopwords_barchart(df['Summary'])\n",
        "\n",
        "# Set the title for the plot\n",
        "plt.title(\"Top non stopwords in Summary\")\n",
        "\n",
        "# Show the plot\n",
        "plt.show()"
      ],
      "metadata": {
        "colab": {
          "base_uri": "https://localhost:8080/",
          "height": 452
        },
        "id": "aXRbqTbs_QI6",
        "outputId": "9fe592e4-553d-4bb1-f847-2684299531de"
      },
      "execution_count": 42,
      "outputs": [
        {
          "output_type": "display_data",
          "data": {
            "text/plain": [
              "<Figure size 640x480 with 1 Axes>"
            ],
            "image/png": "[encoded data removed]"
          },
          "metadata": {}
        }
      ]
    },
    {
      "cell_type": "code",
      "source": [
        "def display_options():\n",
        "    display = pd.options.display\n",
        "    display.max_columns = 5\n",
        "    display.max_rows = 4\n",
        "    display.max_colwidth = 222\n",
        "    display.width = None\n",
        "    return None"
      ],
      "metadata": {
        "id": "K0dSqEU8g0IX"
      },
      "execution_count": null,
      "outputs": []
    },
    {
      "cell_type": "markdown",
      "source": [
        "### System Architecture"
      ],
      "metadata": {
        "id": "jlrX1iNafO-M"
      }
    },
    {
      "cell_type": "markdown",
      "source": [
        "![Screenshot 2023-10-09 at 6.10.12 PM.png](data:image/png;base64,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)"
      ],
      "metadata": {
        "id": "JQ2NRw70fTCo"
      }
    },
    {
      "cell_type": "markdown",
      "source": [
        "### Sample example for the system"
      ],
      "metadata": {
        "id": "JXHSew5oIzHa"
      }
    },
    {
      "cell_type": "code",
      "source": [
        "df.head()"
      ],
      "metadata": {
        "colab": {
          "base_uri": "https://localhost:8080/",
          "height": 380
        },
        "id": "1GRTiITBfR88",
        "outputId": "bfc7f6c3-f7de-4b8c-a068-a07a93d3d882"
      },
      "execution_count": null,
      "outputs": [
        {
          "output_type": "execute_result",
          "data": {
            "text/plain": [
              "                                     id  \\\n",
              "0  774373a4-8aa1-49ae-9707-4a20a6c3558d   \n",
              "1  3aa3b1eb-6219-4f6a-8025-9708e1c3cba5   \n",
              "2  e0a52b84-b04e-413c-8f4e-ef13b190be7a   \n",
              "3  0cece879-3e29-4faf-90e5-2e2c9b19aad0   \n",
              "4  aa9305bb-b2db-49c3-9cdb-904741f57596   \n",
              "\n",
              "                                               Title  \\\n",
              "0  A Market-Oriented Programming Environment and ...   \n",
              "1            An Empirical Analysis of Search in GSAT   \n",
              "2  The Difficulties of Learning Logic Programs wi...   \n",
              "3  Software Agents: Completing Patterns and Const...   \n",
              "4  Decidable Reasoning in Terminological Knowledg...   \n",
              "\n",
              "                                             Summary          Authors  \\\n",
              "0    Market price systems constitute a well-under...    M. P. Wellman   \n",
              "1    We describe an extensive study of search in ...       I. P. Gent   \n",
              "2    As real logic programmers normally use cut (...     F. Bergadano   \n",
              "3    To support the goal of allowing users to rec...  J. C. Schlimmer   \n",
              "4    Terminological knowledge representation syst...      M. Buchheit   \n",
              "\n",
              "              Published                               Link  \n",
              "0  1993-08-01T00:00:00Z  http://arxiv.org/abs/cs/9308102v1  \n",
              "1  1993-09-01T00:00:00Z  http://arxiv.org/abs/cs/9309101v1  \n",
              "2  1993-11-01T00:00:00Z  http://arxiv.org/abs/cs/9311101v1  \n",
              "3  1993-11-01T00:00:00Z  http://arxiv.org/abs/cs/9311102v1  \n",
              "4  1993-12-01T00:00:00Z  http://arxiv.org/abs/cs/9312101v1  "
            ],
            "text/html": [
              "\n",
              "  <div id=\"df-9221234c-1fa0-4f64-9ec8-72dc6fb47d95\" class=\"colab-df-container\">\n",
              "    <div>\n",
              "<style scoped>\n",
              "    .dataframe tbody tr th:only-of-type {\n",
              "        vertical-align: middle;\n",
              "    }\n",
              "\n",
              "    .dataframe tbody tr th {\n",
              "        vertical-align: top;\n",
              "    }\n",
              "\n",
              "    .dataframe thead th {\n",
              "        text-align: right;\n",
              "    }\n",
              "</style>\n",
              "<table border=\"1\" class=\"dataframe\">\n",
              "  <thead>\n",
              "    <tr style=\"text-align: right;\">\n",
              "      <th></th>\n",
              "      <th>id</th>\n",
              "      <th>Title</th>\n",
              "      <th>Summary</th>\n",
              "      <th>Authors</th>\n",
              "      <th>Published</th>\n",
              "      <th>Link</th>\n",
              "    </tr>\n",
              "  </thead>\n",
              "  <tbody>\n",
              "    <tr>\n",
              "      <th>0</th>\n",
              "      <td>774373a4-8aa1-49ae-9707-4a20a6c3558d</td>\n",
              "      <td>A Market-Oriented Programming Environment and ...</td>\n",
              "      <td>Market price systems constitute a well-under...</td>\n",
              "      <td>M. P. Wellman</td>\n",
              "      <td>1993-08-01T00:00:00Z</td>\n",
              "      <td>http://arxiv.org/abs/cs/9308102v1</td>\n",
              "    </tr>\n",
              "    <tr>\n",
              "      <th>1</th>\n",
              "      <td>3aa3b1eb-6219-4f6a-8025-9708e1c3cba5</td>\n",
              "      <td>An Empirical Analysis of Search in GSAT</td>\n",
              "      <td>We describe an extensive study of search in ...</td>\n",
              "      <td>I. P. Gent</td>\n",
              "      <td>1993-09-01T00:00:00Z</td>\n",
              "      <td>http://arxiv.org/abs/cs/9309101v1</td>\n",
              "    </tr>\n",
              "    <tr>\n",
              "      <th>2</th>\n",
              "      <td>e0a52b84-b04e-413c-8f4e-ef13b190be7a</td>\n",
              "      <td>The Difficulties of Learning Logic Programs wi...</td>\n",
              "      <td>As real logic programmers normally use cut (...</td>\n",
              "      <td>F. Bergadano</td>\n",
              "      <td>1993-11-01T00:00:00Z</td>\n",
              "      <td>http://arxiv.org/abs/cs/9311101v1</td>\n",
              "    </tr>\n",
              "    <tr>\n",
              "      <th>3</th>\n",
              "      <td>0cece879-3e29-4faf-90e5-2e2c9b19aad0</td>\n",
              "      <td>Software Agents: Completing Patterns and Const...</td>\n",
              "      <td>To support the goal of allowing users to rec...</td>\n",
              "      <td>J. C. Schlimmer</td>\n",
              "      <td>1993-11-01T00:00:00Z</td>\n",
              "      <td>http://arxiv.org/abs/cs/9311102v1</td>\n",
              "    </tr>\n",
              "    <tr>\n",
              "      <th>4</th>\n",
              "      <td>aa9305bb-b2db-49c3-9cdb-904741f57596</td>\n",
              "      <td>Decidable Reasoning in Terminological Knowledg...</td>\n",
              "      <td>Terminological knowledge representation syst...</td>\n",
              "      <td>M. Buchheit</td>\n",
              "      <td>1993-12-01T00:00:00Z</td>\n",
              "      <td>http://arxiv.org/abs/cs/9312101v1</td>\n",
              "    </tr>\n",
              "  </tbody>\n",
              "</table>\n",
              "</div>\n",
              "    <div class=\"colab-df-buttons\">\n",
              "\n",
              "  <div class=\"colab-df-container\">\n",
              "    <button class=\"colab-df-convert\" onclick=\"convertToInteractive('df-9221234c-1fa0-4f64-9ec8-72dc6fb47d95')\"\n",
              "            title=\"Convert this dataframe to an interactive table.\"\n",
              "            style=\"display:none;\">\n",
              "\n",
              "  <svg xmlns=\"http://www.w3.org/2000/svg\" height=\"24px\" viewBox=\"0 -960 960 960\">\n",
              "    <path d=\"M120-120v-720h720v720H120Zm60-500h600v-160H180v160Zm220 220h160v-160H400v160Zm0 220h160v-160H400v160ZM180-400h160v-160H180v160Zm440 0h160v-160H620v160ZM180-180h160v-160H180v160Zm440 0h160v-160H620v160Z\"/>\n",
              "  </svg>\n",
              "    </button>\n",
              "\n",
              "  <style>\n",
              "    .colab-df-container {\n",
              "      display:flex;\n",
              "      gap: 12px;\n",
              "    }\n",
              "\n",
              "    .colab-df-convert {\n",
              "      background-color: #E8F0FE;\n",
              "      border: none;\n",
              "      border-radius: 50%;\n",
              "      cursor: pointer;\n",
              "      display: none;\n",
              "      fill: #1967D2;\n",
              "      height: 32px;\n",
              "      padding: 0 0 0 0;\n",
              "      width: 32px;\n",
              "    }\n",
              "\n",
              "    .colab-df-convert:hover {\n",
              "      background-color: #E2EBFA;\n",
              "      box-shadow: 0px 1px 2px rgba(60, 64, 67, 0.3), 0px 1px 3px 1px rgba(60, 64, 67, 0.15);\n",
              "      fill: #174EA6;\n",
              "    }\n",
              "\n",
              "    .colab-df-buttons div {\n",
              "      margin-bottom: 4px;\n",
              "    }\n",
              "\n",
              "    [theme=dark] .colab-df-convert {\n",
              "      background-color: #3B4455;\n",
              "      fill: #D2E3FC;\n",
              "    }\n",
              "\n",
              "    [theme=dark] .colab-df-convert:hover {\n",
              "      background-color: #434B5C;\n",
              "      box-shadow: 0px 1px 3px 1px rgba(0, 0, 0, 0.15);\n",
              "      filter: drop-shadow(0px 1px 2px rgba(0, 0, 0, 0.3));\n",
              "      fill: #FFFFFF;\n",
              "    }\n",
              "  </style>\n",
              "\n",
              "    <script>\n",
              "      const buttonEl =\n",
              "        document.querySelector('#df-9221234c-1fa0-4f64-9ec8-72dc6fb47d95 button.colab-df-convert');\n",
              "      buttonEl.style.display =\n",
              "        google.colab.kernel.accessAllowed ? 'block' : 'none';\n",
              "\n",
              "      async function convertToInteractive(key) {\n",
              "        const element = document.querySelector('#df-9221234c-1fa0-4f64-9ec8-72dc6fb47d95');\n",
              "        const dataTable =\n",
              "          await google.colab.kernel.invokeFunction('convertToInteractive',\n",
              "                                                    [key], {});\n",
              "        if (!dataTable) return;\n",
              "\n",
              "        const docLinkHtml = 'Like what you see? Visit the ' +\n",
              "          '<a target=\"_blank\" href=https://colab.research.google.com/notebooks/data_table.ipynb>data table notebook</a>'\n",
              "          + ' to learn more about interactive tables.';\n",
              "        element.innerHTML = '';\n",
              "        dataTable['output_type'] = 'display_data';\n",
              "        await google.colab.output.renderOutput(dataTable, element);\n",
              "        const docLink = document.createElement('div');\n",
              "        docLink.innerHTML = docLinkHtml;\n",
              "        element.appendChild(docLink);\n",
              "      }\n",
              "    </script>\n",
              "  </div>\n",
              "\n",
              "\n",
              "<div id=\"df-4bb26114-90cf-4aef-88ee-65f5378d7aec\">\n",
              "  <button class=\"colab-df-quickchart\" onclick=\"quickchart('df-4bb26114-90cf-4aef-88ee-65f5378d7aec')\"\n",
              "            title=\"Suggest charts.\"\n",
              "            style=\"display:none;\">\n",
              "\n",
              "<svg xmlns=\"http://www.w3.org/2000/svg\" height=\"24px\"viewBox=\"0 0 24 24\"\n",
              "     width=\"24px\">\n",
              "    <g>\n",
              "        <path d=\"M19 3H5c-1.1 0-2 .9-2 2v14c0 1.1.9 2 2 2h14c1.1 0 2-.9 2-2V5c0-1.1-.9-2-2-2zM9 17H7v-7h2v7zm4 0h-2V7h2v10zm4 0h-2v-4h2v4z\"/>\n",
              "    </g>\n",
              "</svg>\n",
              "  </button>\n",
              "\n",
              "<style>\n",
              "  .colab-df-quickchart {\n",
              "      --bg-color: #E8F0FE;\n",
              "      --fill-color: #1967D2;\n",
              "      --hover-bg-color: #E2EBFA;\n",
              "      --hover-fill-color: #174EA6;\n",
              "      --disabled-fill-color: #AAA;\n",
              "      --disabled-bg-color: #DDD;\n",
              "  }\n",
              "\n",
              "  [theme=dark] .colab-df-quickchart {\n",
              "      --bg-color: #3B4455;\n",
              "      --fill-color: #D2E3FC;\n",
              "      --hover-bg-color: #434B5C;\n",
              "      --hover-fill-color: #FFFFFF;\n",
              "      --disabled-bg-color: #3B4455;\n",
              "      --disabled-fill-color: #666;\n",
              "  }\n",
              "\n",
              "  .colab-df-quickchart {\n",
              "    background-color: var(--bg-color);\n",
              "    border: none;\n",
              "    border-radius: 50%;\n",
              "    cursor: pointer;\n",
              "    display: none;\n",
              "    fill: var(--fill-color);\n",
              "    height: 32px;\n",
              "    padding: 0;\n",
              "    width: 32px;\n",
              "  }\n",
              "\n",
              "  .colab-df-quickchart:hover {\n",
              "    background-color: var(--hover-bg-color);\n",
              "    box-shadow: 0 1px 2px rgba(60, 64, 67, 0.3), 0 1px 3px 1px rgba(60, 64, 67, 0.15);\n",
              "    fill: var(--button-hover-fill-color);\n",
              "  }\n",
              "\n",
              "  .colab-df-quickchart-complete:disabled,\n",
              "  .colab-df-quickchart-complete:disabled:hover {\n",
              "    background-color: var(--disabled-bg-color);\n",
              "    fill: var(--disabled-fill-color);\n",
              "    box-shadow: none;\n",
              "  }\n",
              "\n",
              "  .colab-df-spinner {\n",
              "    border: 2px solid var(--fill-color);\n",
              "    border-color: transparent;\n",
              "    border-bottom-color: var(--fill-color);\n",
              "    animation:\n",
              "      spin 1s steps(1) infinite;\n",
              "  }\n",
              "\n",
              "  @keyframes spin {\n",
              "    0% {\n",
              "      border-color: transparent;\n",
              "      border-bottom-color: var(--fill-color);\n",
              "      border-left-color: var(--fill-color);\n",
              "    }\n",
              "    20% {\n",
              "      border-color: transparent;\n",
              "      border-left-color: var(--fill-color);\n",
              "      border-top-color: var(--fill-color);\n",
              "    }\n",
              "    30% {\n",
              "      border-color: transparent;\n",
              "      border-left-color: var(--fill-color);\n",
              "      border-top-color: var(--fill-color);\n",
              "      border-right-color: var(--fill-color);\n",
              "    }\n",
              "    40% {\n",
              "      border-color: transparent;\n",
              "      border-right-color: var(--fill-color);\n",
              "      border-top-color: var(--fill-color);\n",
              "    }\n",
              "    60% {\n",
              "      border-color: transparent;\n",
              "      border-right-color: var(--fill-color);\n",
              "    }\n",
              "    80% {\n",
              "      border-color: transparent;\n",
              "      border-right-color: var(--fill-color);\n",
              "      border-bottom-color: var(--fill-color);\n",
              "    }\n",
              "    90% {\n",
              "      border-color: transparent;\n",
              "      border-bottom-color: var(--fill-color);\n",
              "    }\n",
              "  }\n",
              "</style>\n",
              "\n",
              "  <script>\n",
              "    async function quickchart(key) {\n",
              "      const quickchartButtonEl =\n",
              "        document.querySelector('#' + key + ' button');\n",
              "      quickchartButtonEl.disabled = true;  // To prevent multiple clicks.\n",
              "      quickchartButtonEl.classList.add('colab-df-spinner');\n",
              "      try {\n",
              "        const charts = await google.colab.kernel.invokeFunction(\n",
              "            'suggestCharts', [key], {});\n",
              "      } catch (error) {\n",
              "        console.error('Error during call to suggestCharts:', error);\n",
              "      }\n",
              "      quickchartButtonEl.classList.remove('colab-df-spinner');\n",
              "      quickchartButtonEl.classList.add('colab-df-quickchart-complete');\n",
              "    }\n",
              "    (() => {\n",
              "      let quickchartButtonEl =\n",
              "        document.querySelector('#df-4bb26114-90cf-4aef-88ee-65f5378d7aec button');\n",
              "      quickchartButtonEl.style.display =\n",
              "        google.colab.kernel.accessAllowed ? 'block' : 'none';\n",
              "    })();\n",
              "  </script>\n",
              "</div>\n",
              "    </div>\n",
              "  </div>\n"
            ]
          },
          "metadata": {},
          "execution_count": 199
        }
      ]
    },
    {
      "cell_type": "code",
      "source": [
        "index = input(\"Enter Paper index: \")\n",
        "print(\"Recommended Papers:\")\n",
        "df.iloc[int(index):int(index)+5,1:2]"
      ],
      "metadata": {
        "colab": {
          "base_uri": "https://localhost:8080/",
          "height": 242
        },
        "id": "Lz3bHXnUfg9P",
        "outputId": "b4f0064d-5645-4916-ae9e-7640d6b7c444"
      },
      "execution_count": null,
      "outputs": [
        {
          "output_type": "stream",
          "name": "stdout",
          "text": [
            "Enter Paper index: 10\n",
            "Recommended Papers:\n"
          ]
        },
        {
          "output_type": "execute_result",
          "data": {
            "text/plain": [
              "                                                Title\n",
              "10  A Semantics and Complete Algorithm for Subsump...\n",
              "11              Applying GSAT to Non-Clausal Formulas\n",
              "12                  Random Worlds and Maximum Entropy\n",
              "13  Pattern Matching and Discourse Processing in I...\n",
              "14   A System for Induction of Oblique Decision Trees"
            ],
            "text/html": [
              "\n",
              "  <div id=\"df-6b8b29f9-d721-437b-ae9f-b3267f55b59d\" class=\"colab-df-container\">\n",
              "    <div>\n",
              "<style scoped>\n",
              "    .dataframe tbody tr th:only-of-type {\n",
              "        vertical-align: middle;\n",
              "    }\n",
              "\n",
              "    .dataframe tbody tr th {\n",
              "        vertical-align: top;\n",
              "    }\n",
              "\n",
              "    .dataframe thead th {\n",
              "        text-align: right;\n",
              "    }\n",
              "</style>\n",
              "<table border=\"1\" class=\"dataframe\">\n",
              "  <thead>\n",
              "    <tr style=\"text-align: right;\">\n",
              "      <th></th>\n",
              "      <th>Title</th>\n",
              "    </tr>\n",
              "  </thead>\n",
              "  <tbody>\n",
              "    <tr>\n",
              "      <th>10</th>\n",
              "      <td>A Semantics and Complete Algorithm for Subsump...</td>\n",
              "    </tr>\n",
              "    <tr>\n",
              "      <th>11</th>\n",
              "      <td>Applying GSAT to Non-Clausal Formulas</td>\n",
              "    </tr>\n",
              "    <tr>\n",
              "      <th>12</th>\n",
              "      <td>Random Worlds and Maximum Entropy</td>\n",
              "    </tr>\n",
              "    <tr>\n",
              "      <th>13</th>\n",
              "      <td>Pattern Matching and Discourse Processing in I...</td>\n",
              "    </tr>\n",
              "    <tr>\n",
              "      <th>14</th>\n",
              "      <td>A System for Induction of Oblique Decision Trees</td>\n",
              "    </tr>\n",
              "  </tbody>\n",
              "</table>\n",
              "</div>\n",
              "    <div class=\"colab-df-buttons\">\n",
              "\n",
              "  <div class=\"colab-df-container\">\n",
              "    <button class=\"colab-df-convert\" onclick=\"convertToInteractive('df-6b8b29f9-d721-437b-ae9f-b3267f55b59d')\"\n",
              "            title=\"Convert this dataframe to an interactive table.\"\n",
              "            style=\"display:none;\">\n",
              "\n",
              "  <svg xmlns=\"http://www.w3.org/2000/svg\" height=\"24px\" viewBox=\"0 -960 960 960\">\n",
              "    <path d=\"M120-120v-720h720v720H120Zm60-500h600v-160H180v160Zm220 220h160v-160H400v160Zm0 220h160v-160H400v160ZM180-400h160v-160H180v160Zm440 0h160v-160H620v160ZM180-180h160v-160H180v160Zm440 0h160v-160H620v160Z\"/>\n",
              "  </svg>\n",
              "    </button>\n",
              "\n",
              "  <style>\n",
              "    .colab-df-container {\n",
              "      display:flex;\n",
              "      gap: 12px;\n",
              "    }\n",
              "\n",
              "    .colab-df-convert {\n",
              "      background-color: #E8F0FE;\n",
              "      border: none;\n",
              "      border-radius: 50%;\n",
              "      cursor: pointer;\n",
              "      display: none;\n",
              "      fill: #1967D2;\n",
              "      height: 32px;\n",
              "      padding: 0 0 0 0;\n",
              "      width: 32px;\n",
              "    }\n",
              "\n",
              "    .colab-df-convert:hover {\n",
              "      background-color: #E2EBFA;\n",
              "      box-shadow: 0px 1px 2px rgba(60, 64, 67, 0.3), 0px 1px 3px 1px rgba(60, 64, 67, 0.15);\n",
              "      fill: #174EA6;\n",
              "    }\n",
              "\n",
              "    .colab-df-buttons div {\n",
              "      margin-bottom: 4px;\n",
              "    }\n",
              "\n",
              "    [theme=dark] .colab-df-convert {\n",
              "      background-color: #3B4455;\n",
              "      fill: #D2E3FC;\n",
              "    }\n",
              "\n",
              "    [theme=dark] .colab-df-convert:hover {\n",
              "      background-color: #434B5C;\n",
              "      box-shadow: 0px 1px 3px 1px rgba(0, 0, 0, 0.15);\n",
              "      filter: drop-shadow(0px 1px 2px rgba(0, 0, 0, 0.3));\n",
              "      fill: #FFFFFF;\n",
              "    }\n",
              "  </style>\n",
              "\n",
              "    <script>\n",
              "      const buttonEl =\n",
              "        document.querySelector('#df-6b8b29f9-d721-437b-ae9f-b3267f55b59d button.colab-df-convert');\n",
              "      buttonEl.style.display =\n",
              "        google.colab.kernel.accessAllowed ? 'block' : 'none';\n",
              "\n",
              "      async function convertToInteractive(key) {\n",
              "        const element = document.querySelector('#df-6b8b29f9-d721-437b-ae9f-b3267f55b59d');\n",
              "        const dataTable =\n",
              "          await google.colab.kernel.invokeFunction('convertToInteractive',\n",
              "                                                    [key], {});\n",
              "        if (!dataTable) return;\n",
              "\n",
              "        const docLinkHtml = 'Like what you see? Visit the ' +\n",
              "          '<a target=\"_blank\" href=https://colab.research.google.com/notebooks/data_table.ipynb>data table notebook</a>'\n",
              "          + ' to learn more about interactive tables.';\n",
              "        element.innerHTML = '';\n",
              "        dataTable['output_type'] = 'display_data';\n",
              "        await google.colab.output.renderOutput(dataTable, element);\n",
              "        const docLink = document.createElement('div');\n",
              "        docLink.innerHTML = docLinkHtml;\n",
              "        element.appendChild(docLink);\n",
              "      }\n",
              "    </script>\n",
              "  </div>\n",
              "\n",
              "\n",
              "<div id=\"df-4f0744fe-c325-46df-af63-49c3ba082896\">\n",
              "  <button class=\"colab-df-quickchart\" onclick=\"quickchart('df-4f0744fe-c325-46df-af63-49c3ba082896')\"\n",
              "            title=\"Suggest charts.\"\n",
              "            style=\"display:none;\">\n",
              "\n",
              "<svg xmlns=\"http://www.w3.org/2000/svg\" height=\"24px\"viewBox=\"0 0 24 24\"\n",
              "     width=\"24px\">\n",
              "    <g>\n",
              "        <path d=\"M19 3H5c-1.1 0-2 .9-2 2v14c0 1.1.9 2 2 2h14c1.1 0 2-.9 2-2V5c0-1.1-.9-2-2-2zM9 17H7v-7h2v7zm4 0h-2V7h2v10zm4 0h-2v-4h2v4z\"/>\n",
              "    </g>\n",
              "</svg>\n",
              "  </button>\n",
              "\n",
              "<style>\n",
              "  .colab-df-quickchart {\n",
              "      --bg-color: #E8F0FE;\n",
              "      --fill-color: #1967D2;\n",
              "      --hover-bg-color: #E2EBFA;\n",
              "      --hover-fill-color: #174EA6;\n",
              "      --disabled-fill-color: #AAA;\n",
              "      --disabled-bg-color: #DDD;\n",
              "  }\n",
              "\n",
              "  [theme=dark] .colab-df-quickchart {\n",
              "      --bg-color: #3B4455;\n",
              "      --fill-color: #D2E3FC;\n",
              "      --hover-bg-color: #434B5C;\n",
              "      --hover-fill-color: #FFFFFF;\n",
              "      --disabled-bg-color: #3B4455;\n",
              "      --disabled-fill-color: #666;\n",
              "  }\n",
              "\n",
              "  .colab-df-quickchart {\n",
              "    background-color: var(--bg-color);\n",
              "    border: none;\n",
              "    border-radius: 50%;\n",
              "    cursor: pointer;\n",
              "    display: none;\n",
              "    fill: var(--fill-color);\n",
              "    height: 32px;\n",
              "    padding: 0;\n",
              "    width: 32px;\n",
              "  }\n",
              "\n",
              "  .colab-df-quickchart:hover {\n",
              "    background-color: var(--hover-bg-color);\n",
              "    box-shadow: 0 1px 2px rgba(60, 64, 67, 0.3), 0 1px 3px 1px rgba(60, 64, 67, 0.15);\n",
              "    fill: var(--button-hover-fill-color);\n",
              "  }\n",
              "\n",
              "  .colab-df-quickchart-complete:disabled,\n",
              "  .colab-df-quickchart-complete:disabled:hover {\n",
              "    background-color: var(--disabled-bg-color);\n",
              "    fill: var(--disabled-fill-color);\n",
              "    box-shadow: none;\n",
              "  }\n",
              "\n",
              "  .colab-df-spinner {\n",
              "    border: 2px solid var(--fill-color);\n",
              "    border-color: transparent;\n",
              "    border-bottom-color: var(--fill-color);\n",
              "    animation:\n",
              "      spin 1s steps(1) infinite;\n",
              "  }\n",
              "\n",
              "  @keyframes spin {\n",
              "    0% {\n",
              "      border-color: transparent;\n",
              "      border-bottom-color: var(--fill-color);\n",
              "      border-left-color: var(--fill-color);\n",
              "    }\n",
              "    20% {\n",
              "      border-color: transparent;\n",
              "      border-left-color: var(--fill-color);\n",
              "      border-top-color: var(--fill-color);\n",
              "    }\n",
              "    30% {\n",
              "      border-color: transparent;\n",
              "      border-left-color: var(--fill-color);\n",
              "      border-top-color: var(--fill-color);\n",
              "      border-right-color: var(--fill-color);\n",
              "    }\n",
              "    40% {\n",
              "      border-color: transparent;\n",
              "      border-right-color: var(--fill-color);\n",
              "      border-top-color: var(--fill-color);\n",
              "    }\n",
              "    60% {\n",
              "      border-color: transparent;\n",
              "      border-right-color: var(--fill-color);\n",
              "    }\n",
              "    80% {\n",
              "      border-color: transparent;\n",
              "      border-right-color: var(--fill-color);\n",
              "      border-bottom-color: var(--fill-color);\n",
              "    }\n",
              "    90% {\n",
              "      border-color: transparent;\n",
              "      border-bottom-color: var(--fill-color);\n",
              "    }\n",
              "  }\n",
              "</style>\n",
              "\n",
              "  <script>\n",
              "    async function quickchart(key) {\n",
              "      const quickchartButtonEl =\n",
              "        document.querySelector('#' + key + ' button');\n",
              "      quickchartButtonEl.disabled = true;  // To prevent multiple clicks.\n",
              "      quickchartButtonEl.classList.add('colab-df-spinner');\n",
              "      try {\n",
              "        const charts = await google.colab.kernel.invokeFunction(\n",
              "            'suggestCharts', [key], {});\n",
              "      } catch (error) {\n",
              "        console.error('Error during call to suggestCharts:', error);\n",
              "      }\n",
              "      quickchartButtonEl.classList.remove('colab-df-spinner');\n",
              "      quickchartButtonEl.classList.add('colab-df-quickchart-complete');\n",
              "    }\n",
              "    (() => {\n",
              "      let quickchartButtonEl =\n",
              "        document.querySelector('#df-4f0744fe-c325-46df-af63-49c3ba082896 button');\n",
              "      quickchartButtonEl.style.display =\n",
              "        google.colab.kernel.accessAllowed ? 'block' : 'none';\n",
              "    })();\n",
              "  </script>\n",
              "</div>\n",
              "    </div>\n",
              "  </div>\n"
            ]
          },
          "metadata": {},
          "execution_count": 210
        }
      ]
    },
    {
      "cell_type": "markdown",
      "source": [
        "Top N-Grams Analysis"
      ],
      "metadata": {
        "id": "ZZIirHdLLn05"
      }
    },
    {
      "cell_type": "code",
      "source": [
        "import seaborn as sns\n",
        "import numpy as np\n",
        "from nltk.corpus import stopwords\n",
        "from sklearn.feature_extraction.text import CountVectorizer\n",
        "from collections import  Counter\n",
        "\n",
        "def plot_top_ngrams_barchart(text, n=2):\n",
        "    stop=set(stopwords.words('english'))\n",
        "\n",
        "    new= text.str.split()\n",
        "    new=new.values.tolist()\n",
        "    corpus=[word for i in new for word in i]\n",
        "\n",
        "    def _get_top_ngram(corpus, n=None):\n",
        "        vec = CountVectorizer(ngram_range=(n, n)).fit(corpus)\n",
        "        bag_of_words = vec.transform(corpus)\n",
        "        sum_words = bag_of_words.sum(axis=0)\n",
        "        words_freq = [(word, sum_words[0, idx])\n",
        "                      for word, idx in vec.vocabulary_.items()]\n",
        "        words_freq =sorted(words_freq, key = lambda x: x[1], reverse=True)\n",
        "        return words_freq[:10]\n",
        "\n",
        "    top_n_bigrams=_get_top_ngram(text,n)[:10]\n",
        "    x,y=map(list,zip(*top_n_bigrams))\n",
        "    sns.barplot(x=y,y=x)"
      ],
      "metadata": {
        "id": "g-OLo7RygRgC"
      },
      "execution_count": 43,
      "outputs": []
    },
    {
      "cell_type": "markdown",
      "source": [
        "Top bi grams for the title"
      ],
      "metadata": {
        "id": "9A1xIMvcNQHY"
      }
    },
    {
      "cell_type": "code",
      "source": [
        "plot_top_ngrams_barchart(df['Title'],2)\n",
        "\n",
        "# Set the title for the plot\n",
        "plt.title(\"Top bi grams the Title\")\n",
        "\n",
        "# Show the plot\n",
        "plt.show()"
      ],
      "metadata": {
        "colab": {
          "base_uri": "https://localhost:8080/",
          "height": 452
        },
        "id": "1H9NchNILwOc",
        "outputId": "2d177137-28b0-429c-fffe-1e5a4672508b"
      },
      "execution_count": 48,
      "outputs": [
        {
          "output_type": "display_data",
          "data": {
            "text/plain": [
              "<Figure size 640x480 with 1 Axes>"
            ],
            "image/png": "[encoded data removed]"
          },
          "metadata": {}
        }
      ]
    },
    {
      "cell_type": "markdown",
      "source": [
        "Tri-Grams for the Title"
      ],
      "metadata": {
        "id": "grhe9jbPMVn5"
      }
    },
    {
      "cell_type": "code",
      "source": [
        "plot_top_ngrams_barchart(df['Title'],3)\n",
        "\n",
        "# Set the title for the plot\n",
        "plt.title(\"Top tri grams for the title\")\n",
        "\n",
        "# Show the plot\n",
        "plt.show()"
      ],
      "metadata": {
        "colab": {
          "base_uri": "https://localhost:8080/",
          "height": 452
        },
        "id": "q_NTy4R1L0PD",
        "outputId": "449f58f4-0687-4e92-c467-19a6ab83b91b"
      },
      "execution_count": 47,
      "outputs": [
        {
          "output_type": "display_data",
          "data": {
            "text/plain": [
              "<Figure size 640x480 with 1 Axes>"
            ],
            "image/png": "[encoded data removed]"
          },
          "metadata": {}
        }
      ]
    },
    {
      "cell_type": "markdown",
      "source": [
        "This chart is to view top bi grams the Summary"
      ],
      "metadata": {
        "id": "1aMO6KCtNJvE"
      }
    },
    {
      "cell_type": "code",
      "source": [
        "plot_top_ngrams_barchart(df['Summary'],2)\n",
        "\n",
        "# Set the title for the plot\n",
        "plt.title(\"Top bi grams the Summary\")\n",
        "\n",
        "# Show the plot\n",
        "plt.show()"
      ],
      "metadata": {
        "colab": {
          "base_uri": "https://localhost:8080/",
          "height": 452
        },
        "id": "0RRwUCt6MBPf",
        "outputId": "7f4ee9ac-d8d4-4fe3-8b94-a4d9ad4ceff3"
      },
      "execution_count": 49,
      "outputs": [
        {
          "output_type": "display_data",
          "data": {
            "text/plain": [
              "<Figure size 640x480 with 1 Axes>"
            ],
            "image/png": "[encoded data removed]"
          },
          "metadata": {}
        }
      ]
    },
    {
      "cell_type": "markdown",
      "source": [
        "To view top tri grams for the summary"
      ],
      "metadata": {
        "id": "oqS2T85wNDGK"
      }
    },
    {
      "cell_type": "code",
      "source": [
        "plot_top_ngrams_barchart(df['Summary'],3)\n",
        "\n",
        "# Set the title for the plot\n",
        "plt.title(\"Top tri grams for the Summary\")\n",
        "\n",
        "# Show the plot\n",
        "plt.show()"
      ],
      "metadata": {
        "colab": {
          "base_uri": "https://localhost:8080/",
          "height": 452
        },
        "id": "k7MsOGjRMmKy",
        "outputId": "fa3a6855-fd57-4a13-df3d-a2a2ee8bbd02"
      },
      "execution_count": 50,
      "outputs": [
        {
          "output_type": "display_data",
          "data": {
            "text/plain": [
              "<Figure size 640x480 with 1 Axes>"
            ],
            "image/png": "[encoded data removed]"
          },
          "metadata": {}
        }
      ]
    },
    {
      "cell_type": "code",
      "source": [],
      "metadata": {
        "id": "1An48hUMMrjI"
      },
      "execution_count": null,
      "outputs": []
    }
  ]
}