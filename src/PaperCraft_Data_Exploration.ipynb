{
  "nbformat": 4,
  "nbformat_minor": 0,
  "metadata": {
    "colab": {
      "provenance": []
    },
    "kernelspec": {
      "name": "python3",
      "display_name": "Python 3"
    },
    "language_info": {
      "name": "python"
    }
  },
  "cells": [
    {
      "cell_type": "markdown",
      "source": [
        "# Data606- PaperCraft Project Dataset Exploration"
      ],
      "metadata": {
        "id": "GvuRiErvgi7b"
      }
    },
    {
      "cell_type": "markdown",
      "source": [
        "## Import Libraries"
      ],
      "metadata": {
        "id": "lcLUffbbgs_p"
      }
    },
    {
      "cell_type": "code",
      "execution_count": 5,
      "metadata": {
        "id": "JJpOnz-4Xs8v"
      },
      "outputs": [],
      "source": [
        "import requests\n",
        "import csv\n",
        "import xml.etree.ElementTree as ET\n",
        "import uuid\n",
        "import numpy as np\n",
        "from time import sleep\n",
        "import pandas as pd"
      ]
    },
    {
      "cell_type": "markdown",
      "source": [
        "## Dataset Preparation (Scraping)"
      ],
      "metadata": {
        "id": "G9X0uIm2hNg4"
      }
    },
    {
      "cell_type": "code",
      "source": [
        "def get_data(keyword, category, sortby, sort_order, max_results, start):\n",
        "\n",
        "    url = f\"http://export.arxiv.org/api/query?search_query=cat:{category}&max_results={max_results}&sort_by={sortby}&sort_order{sort_order}&start={start}\"\n",
        "\n",
        "    response = requests.get(url)\n",
        "\n",
        "    root = ET.fromstring(response.content)\n",
        "    data = []\n",
        "    for entry in root.findall('{http://www.w3.org/2005/Atom}entry'):\n",
        "        title = entry.find('{http://www.w3.org/2005/Atom}title').text\n",
        "        summary = entry.find('{http://www.w3.org/2005/Atom}summary').text\n",
        "        author = entry.find('{http://www.w3.org/2005/Atom}author/{http://www.w3.org/2005/Atom}name').text\n",
        "        published = entry.find('{http://www.w3.org/2005/Atom}published').text\n",
        "        link = entry.find('{http://www.w3.org/2005/Atom}link[@type=\"text/html\"]')\n",
        "        if link is not None:\n",
        "            link = link.attrib['href']\n",
        "\n",
        "        data.append([uuid.uuid4(), title, summary, author, published, link])\n",
        "    return data"
      ],
      "metadata": {
        "id": "jfxGKHPJhPvm"
      },
      "execution_count": 12,
      "outputs": []
    },
    {
      "cell_type": "markdown",
      "source": [
        "## Import Dataset"
      ],
      "metadata": {
        "id": "m--X--uu5ulX"
      }
    },
    {
      "cell_type": "code",
      "source": [
        "df=pd.read_csv('arxiv_data.csv')"
      ],
      "metadata": {
        "id": "QfTflV9W0H2F"
      },
      "execution_count": 7,
      "outputs": []
    },
    {
      "cell_type": "markdown",
      "source": [
        "## Dataset Size"
      ],
      "metadata": {
        "id": "-N1KIPQ452ER"
      }
    },
    {
      "cell_type": "code",
      "source": [
        "df.shape"
      ],
      "metadata": {
        "colab": {
          "base_uri": "https://localhost:8080/"
        },
        "id": "DlQcXjRG0dTh",
        "outputId": "fc7a302a-ff86-4c5d-f7b1-7daffab19518"
      },
      "execution_count": 11,
      "outputs": [
        {
          "output_type": "execute_result",
          "data": {
            "text/plain": [
              "(9500, 5)"
            ]
          },
          "metadata": {},
          "execution_count": 11
        }
      ]
    },
    {
      "cell_type": "markdown",
      "source": [
        "## Dataset Information"
      ],
      "metadata": {
        "id": "KDc9AlFA57MK"
      }
    },
    {
      "cell_type": "code",
      "source": [
        "df.info()"
      ],
      "metadata": {
        "colab": {
          "base_uri": "https://localhost:8080/"
        },
        "id": "-x5Vd_jE0bnf",
        "outputId": "e4c53c75-f108-4159-e9d7-1f3529d523b2"
      },
      "execution_count": 9,
      "outputs": [
        {
          "output_type": "stream",
          "name": "stdout",
          "text": [
            "<class 'pandas.core.frame.DataFrame'>\n",
            "Index: 9500 entries, 774373a4-8aa1-49ae-9707-4a20a6c3558d to e359c067-05d7-45d7-b51e-471683004a30\n",
            "Data columns (total 5 columns):\n",
            " #   Column     Non-Null Count  Dtype \n",
            "---  ------     --------------  ----- \n",
            " 0   Id         9500 non-null   object\n",
            " 1   Title      9500 non-null   object\n",
            " 2   Summary    9500 non-null   object\n",
            " 3   Authors    9500 non-null   object\n",
            " 4   Published  9500 non-null   object\n",
            "dtypes: object(5)\n",
            "memory usage: 703.4+ KB\n"
          ]
        }
      ]
    },
    {
      "cell_type": "markdown",
      "source": [
        "## Sample Values"
      ],
      "metadata": {
        "id": "lPBZEevH5-pQ"
      }
    },
    {
      "cell_type": "code",
      "source": [
        "df.head()"
      ],
      "metadata": {
        "colab": {
          "base_uri": "https://localhost:8080/",
          "height": 432
        },
        "id": "ppEUWMQ-Xunu",
        "outputId": "55857375-448e-4524-8369-1a36702445a3"
      },
      "execution_count": 30,
      "outputs": [
        {
          "output_type": "execute_result",
          "data": {
            "text/plain": [
              "                                                                                     Id  \\\n",
              "774373a4-8aa1-49ae-9707-4a20a6c3558d  A Market-Oriented Programming Environment and ...   \n",
              "3aa3b1eb-6219-4f6a-8025-9708e1c3cba5            An Empirical Analysis of Search in GSAT   \n",
              "e0a52b84-b04e-413c-8f4e-ef13b190be7a  The Difficulties of Learning Logic Programs wi...   \n",
              "0cece879-3e29-4faf-90e5-2e2c9b19aad0  Software Agents: Completing Patterns and Const...   \n",
              "aa9305bb-b2db-49c3-9cdb-904741f57596  Decidable Reasoning in Terminological Knowledg...   \n",
              "\n",
              "                                                                                  Title  \\\n",
              "774373a4-8aa1-49ae-9707-4a20a6c3558d    Market price systems constitute a well-under...   \n",
              "3aa3b1eb-6219-4f6a-8025-9708e1c3cba5    We describe an extensive study of search in ...   \n",
              "e0a52b84-b04e-413c-8f4e-ef13b190be7a    As real logic programmers normally use cut (...   \n",
              "0cece879-3e29-4faf-90e5-2e2c9b19aad0    To support the goal of allowing users to rec...   \n",
              "aa9305bb-b2db-49c3-9cdb-904741f57596    Terminological knowledge representation syst...   \n",
              "\n",
              "                                              Summary               Authors  \\\n",
              "774373a4-8aa1-49ae-9707-4a20a6c3558d    M. P. Wellman  1993-08-01T00:00:00Z   \n",
              "3aa3b1eb-6219-4f6a-8025-9708e1c3cba5       I. P. Gent  1993-09-01T00:00:00Z   \n",
              "e0a52b84-b04e-413c-8f4e-ef13b190be7a     F. Bergadano  1993-11-01T00:00:00Z   \n",
              "0cece879-3e29-4faf-90e5-2e2c9b19aad0  J. C. Schlimmer  1993-11-01T00:00:00Z   \n",
              "aa9305bb-b2db-49c3-9cdb-904741f57596      M. Buchheit  1993-12-01T00:00:00Z   \n",
              "\n",
              "                                                              Published  \\\n",
              "774373a4-8aa1-49ae-9707-4a20a6c3558d  http://arxiv.org/abs/cs/9308102v1   \n",
              "3aa3b1eb-6219-4f6a-8025-9708e1c3cba5  http://arxiv.org/abs/cs/9309101v1   \n",
              "e0a52b84-b04e-413c-8f4e-ef13b190be7a  http://arxiv.org/abs/cs/9311101v1   \n",
              "0cece879-3e29-4faf-90e5-2e2c9b19aad0  http://arxiv.org/abs/cs/9311102v1   \n",
              "aa9305bb-b2db-49c3-9cdb-904741f57596  http://arxiv.org/abs/cs/9312101v1   \n",
              "\n",
              "                                     PublicationSource  \n",
              "774373a4-8aa1-49ae-9707-4a20a6c3558d         arxiv.org  \n",
              "3aa3b1eb-6219-4f6a-8025-9708e1c3cba5         arxiv.org  \n",
              "e0a52b84-b04e-413c-8f4e-ef13b190be7a         arxiv.org  \n",
              "0cece879-3e29-4faf-90e5-2e2c9b19aad0         arxiv.org  \n",
              "aa9305bb-b2db-49c3-9cdb-904741f57596         arxiv.org  "
            ],
            "text/html": [
              "\n",
              "  <div id=\"df-40df7ef2-9ec2-46f1-9497-98c8c6966f0a\" class=\"colab-df-container\">\n",
              "    <div>\n",
              "<style scoped>\n",
              "    .dataframe tbody tr th:only-of-type {\n",
              "        vertical-align: middle;\n",
              "    }\n",
              "\n",
              "    .dataframe tbody tr th {\n",
              "        vertical-align: top;\n",
              "    }\n",
              "\n",
              "    .dataframe thead th {\n",
              "        text-align: right;\n",
              "    }\n",
              "</style>\n",
              "<table border=\"1\" class=\"dataframe\">\n",
              "  <thead>\n",
              "    <tr style=\"text-align: right;\">\n",
              "      <th></th>\n",
              "      <th>Id</th>\n",
              "      <th>Title</th>\n",
              "      <th>Summary</th>\n",
              "      <th>Authors</th>\n",
              "      <th>Published</th>\n",
              "      <th>PublicationSource</th>\n",
              "    </tr>\n",
              "  </thead>\n",
              "  <tbody>\n",
              "    <tr>\n",
              "      <th>774373a4-8aa1-49ae-9707-4a20a6c3558d</th>\n",
              "      <td>A Market-Oriented Programming Environment and ...</td>\n",
              "      <td>Market price systems constitute a well-under...</td>\n",
              "      <td>M. P. Wellman</td>\n",
              "      <td>1993-08-01T00:00:00Z</td>\n",
              "      <td>http://arxiv.org/abs/cs/9308102v1</td>\n",
              "      <td>arxiv.org</td>\n",
              "    </tr>\n",
              "    <tr>\n",
              "      <th>3aa3b1eb-6219-4f6a-8025-9708e1c3cba5</th>\n",
              "      <td>An Empirical Analysis of Search in GSAT</td>\n",
              "      <td>We describe an extensive study of search in ...</td>\n",
              "      <td>I. P. Gent</td>\n",
              "      <td>1993-09-01T00:00:00Z</td>\n",
              "      <td>http://arxiv.org/abs/cs/9309101v1</td>\n",
              "      <td>arxiv.org</td>\n",
              "    </tr>\n",
              "    <tr>\n",
              "      <th>e0a52b84-b04e-413c-8f4e-ef13b190be7a</th>\n",
              "      <td>The Difficulties of Learning Logic Programs wi...</td>\n",
              "      <td>As real logic programmers normally use cut (...</td>\n",
              "      <td>F. Bergadano</td>\n",
              "      <td>1993-11-01T00:00:00Z</td>\n",
              "      <td>http://arxiv.org/abs/cs/9311101v1</td>\n",
              "      <td>arxiv.org</td>\n",
              "    </tr>\n",
              "    <tr>\n",
              "      <th>0cece879-3e29-4faf-90e5-2e2c9b19aad0</th>\n",
              "      <td>Software Agents: Completing Patterns and Const...</td>\n",
              "      <td>To support the goal of allowing users to rec...</td>\n",
              "      <td>J. C. Schlimmer</td>\n",
              "      <td>1993-11-01T00:00:00Z</td>\n",
              "      <td>http://arxiv.org/abs/cs/9311102v1</td>\n",
              "      <td>arxiv.org</td>\n",
              "    </tr>\n",
              "    <tr>\n",
              "      <th>aa9305bb-b2db-49c3-9cdb-904741f57596</th>\n",
              "      <td>Decidable Reasoning in Terminological Knowledg...</td>\n",
              "      <td>Terminological knowledge representation syst...</td>\n",
              "      <td>M. Buchheit</td>\n",
              "      <td>1993-12-01T00:00:00Z</td>\n",
              "      <td>http://arxiv.org/abs/cs/9312101v1</td>\n",
              "      <td>arxiv.org</td>\n",
              "    </tr>\n",
              "  </tbody>\n",
              "</table>\n",
              "</div>\n",
              "    <div class=\"colab-df-buttons\">\n",
              "\n",
              "  <div class=\"colab-df-container\">\n",
              "    <button class=\"colab-df-convert\" onclick=\"convertToInteractive('df-40df7ef2-9ec2-46f1-9497-98c8c6966f0a')\"\n",
              "            title=\"Convert this dataframe to an interactive table.\"\n",
              "            style=\"display:none;\">\n",
              "\n",
              "  <svg xmlns=\"http://www.w3.org/2000/svg\" height=\"24px\" viewBox=\"0 -960 960 960\">\n",
              "    <path d=\"M120-120v-720h720v720H120Zm60-500h600v-160H180v160Zm220 220h160v-160H400v160Zm0 220h160v-160H400v160ZM180-400h160v-160H180v160Zm440 0h160v-160H620v160ZM180-180h160v-160H180v160Zm440 0h160v-160H620v160Z\"/>\n",
              "  </svg>\n",
              "    </button>\n",
              "\n",
              "  <style>\n",
              "    .colab-df-container {\n",
              "      display:flex;\n",
              "      gap: 12px;\n",
              "    }\n",
              "\n",
              "    .colab-df-convert {\n",
              "      background-color: #E8F0FE;\n",
              "      border: none;\n",
              "      border-radius: 50%;\n",
              "      cursor: pointer;\n",
              "      display: none;\n",
              "      fill: #1967D2;\n",
              "      height: 32px;\n",
              "      padding: 0 0 0 0;\n",
              "      width: 32px;\n",
              "    }\n",
              "\n",
              "    .colab-df-convert:hover {\n",
              "      background-color: #E2EBFA;\n",
              "      box-shadow: 0px 1px 2px rgba(60, 64, 67, 0.3), 0px 1px 3px 1px rgba(60, 64, 67, 0.15);\n",
              "      fill: #174EA6;\n",
              "    }\n",
              "\n",
              "    .colab-df-buttons div {\n",
              "      margin-bottom: 4px;\n",
              "    }\n",
              "\n",
              "    [theme=dark] .colab-df-convert {\n",
              "      background-color: #3B4455;\n",
              "      fill: #D2E3FC;\n",
              "    }\n",
              "\n",
              "    [theme=dark] .colab-df-convert:hover {\n",
              "      background-color: #434B5C;\n",
              "      box-shadow: 0px 1px 3px 1px rgba(0, 0, 0, 0.15);\n",
              "      filter: drop-shadow(0px 1px 2px rgba(0, 0, 0, 0.3));\n",
              "      fill: #FFFFFF;\n",
              "    }\n",
              "  </style>\n",
              "\n",
              "    <script>\n",
              "      const buttonEl =\n",
              "        document.querySelector('#df-40df7ef2-9ec2-46f1-9497-98c8c6966f0a button.colab-df-convert');\n",
              "      buttonEl.style.display =\n",
              "        google.colab.kernel.accessAllowed ? 'block' : 'none';\n",
              "\n",
              "      async function convertToInteractive(key) {\n",
              "        const element = document.querySelector('#df-40df7ef2-9ec2-46f1-9497-98c8c6966f0a');\n",
              "        const dataTable =\n",
              "          await google.colab.kernel.invokeFunction('convertToInteractive',\n",
              "                                                    [key], {});\n",
              "        if (!dataTable) return;\n",
              "\n",
              "        const docLinkHtml = 'Like what you see? Visit the ' +\n",
              "          '<a target=\"_blank\" href=https://colab.research.google.com/notebooks/data_table.ipynb>data table notebook</a>'\n",
              "          + ' to learn more about interactive tables.';\n",
              "        element.innerHTML = '';\n",
              "        dataTable['output_type'] = 'display_data';\n",
              "        await google.colab.output.renderOutput(dataTable, element);\n",
              "        const docLink = document.createElement('div');\n",
              "        docLink.innerHTML = docLinkHtml;\n",
              "        element.appendChild(docLink);\n",
              "      }\n",
              "    </script>\n",
              "  </div>\n",
              "\n",
              "\n",
              "<div id=\"df-789dffc9-f9ed-4294-9d96-bae18794a804\">\n",
              "  <button class=\"colab-df-quickchart\" onclick=\"quickchart('df-789dffc9-f9ed-4294-9d96-bae18794a804')\"\n",
              "            title=\"Suggest charts.\"\n",
              "            style=\"display:none;\">\n",
              "\n",
              "<svg xmlns=\"http://www.w3.org/2000/svg\" height=\"24px\"viewBox=\"0 0 24 24\"\n",
              "     width=\"24px\">\n",
              "    <g>\n",
              "        <path d=\"M19 3H5c-1.1 0-2 .9-2 2v14c0 1.1.9 2 2 2h14c1.1 0 2-.9 2-2V5c0-1.1-.9-2-2-2zM9 17H7v-7h2v7zm4 0h-2V7h2v10zm4 0h-2v-4h2v4z\"/>\n",
              "    </g>\n",
              "</svg>\n",
              "  </button>\n",
              "\n",
              "<style>\n",
              "  .colab-df-quickchart {\n",
              "      --bg-color: #E8F0FE;\n",
              "      --fill-color: #1967D2;\n",
              "      --hover-bg-color: #E2EBFA;\n",
              "      --hover-fill-color: #174EA6;\n",
              "      --disabled-fill-color: #AAA;\n",
              "      --disabled-bg-color: #DDD;\n",
              "  }\n",
              "\n",
              "  [theme=dark] .colab-df-quickchart {\n",
              "      --bg-color: #3B4455;\n",
              "      --fill-color: #D2E3FC;\n",
              "      --hover-bg-color: #434B5C;\n",
              "      --hover-fill-color: #FFFFFF;\n",
              "      --disabled-bg-color: #3B4455;\n",
              "      --disabled-fill-color: #666;\n",
              "  }\n",
              "\n",
              "  .colab-df-quickchart {\n",
              "    background-color: var(--bg-color);\n",
              "    border: none;\n",
              "    border-radius: 50%;\n",
              "    cursor: pointer;\n",
              "    display: none;\n",
              "    fill: var(--fill-color);\n",
              "    height: 32px;\n",
              "    padding: 0;\n",
              "    width: 32px;\n",
              "  }\n",
              "\n",
              "  .colab-df-quickchart:hover {\n",
              "    background-color: var(--hover-bg-color);\n",
              "    box-shadow: 0 1px 2px rgba(60, 64, 67, 0.3), 0 1px 3px 1px rgba(60, 64, 67, 0.15);\n",
              "    fill: var(--button-hover-fill-color);\n",
              "  }\n",
              "\n",
              "  .colab-df-quickchart-complete:disabled,\n",
              "  .colab-df-quickchart-complete:disabled:hover {\n",
              "    background-color: var(--disabled-bg-color);\n",
              "    fill: var(--disabled-fill-color);\n",
              "    box-shadow: none;\n",
              "  }\n",
              "\n",
              "  .colab-df-spinner {\n",
              "    border: 2px solid var(--fill-color);\n",
              "    border-color: transparent;\n",
              "    border-bottom-color: var(--fill-color);\n",
              "    animation:\n",
              "      spin 1s steps(1) infinite;\n",
              "  }\n",
              "\n",
              "  @keyframes spin {\n",
              "    0% {\n",
              "      border-color: transparent;\n",
              "      border-bottom-color: var(--fill-color);\n",
              "      border-left-color: var(--fill-color);\n",
              "    }\n",
              "    20% {\n",
              "      border-color: transparent;\n",
              "      border-left-color: var(--fill-color);\n",
              "      border-top-color: var(--fill-color);\n",
              "    }\n",
              "    30% {\n",
              "      border-color: transparent;\n",
              "      border-left-color: var(--fill-color);\n",
              "      border-top-color: var(--fill-color);\n",
              "      border-right-color: var(--fill-color);\n",
              "    }\n",
              "    40% {\n",
              "      border-color: transparent;\n",
              "      border-right-color: var(--fill-color);\n",
              "      border-top-color: var(--fill-color);\n",
              "    }\n",
              "    60% {\n",
              "      border-color: transparent;\n",
              "      border-right-color: var(--fill-color);\n",
              "    }\n",
              "    80% {\n",
              "      border-color: transparent;\n",
              "      border-right-color: var(--fill-color);\n",
              "      border-bottom-color: var(--fill-color);\n",
              "    }\n",
              "    90% {\n",
              "      border-color: transparent;\n",
              "      border-bottom-color: var(--fill-color);\n",
              "    }\n",
              "  }\n",
              "</style>\n",
              "\n",
              "  <script>\n",
              "    async function quickchart(key) {\n",
              "      const quickchartButtonEl =\n",
              "        document.querySelector('#' + key + ' button');\n",
              "      quickchartButtonEl.disabled = true;  // To prevent multiple clicks.\n",
              "      quickchartButtonEl.classList.add('colab-df-spinner');\n",
              "      try {\n",
              "        const charts = await google.colab.kernel.invokeFunction(\n",
              "            'suggestCharts', [key], {});\n",
              "      } catch (error) {\n",
              "        console.error('Error during call to suggestCharts:', error);\n",
              "      }\n",
              "      quickchartButtonEl.classList.remove('colab-df-spinner');\n",
              "      quickchartButtonEl.classList.add('colab-df-quickchart-complete');\n",
              "    }\n",
              "    (() => {\n",
              "      let quickchartButtonEl =\n",
              "        document.querySelector('#df-789dffc9-f9ed-4294-9d96-bae18794a804 button');\n",
              "      quickchartButtonEl.style.display =\n",
              "        google.colab.kernel.accessAllowed ? 'block' : 'none';\n",
              "    })();\n",
              "  </script>\n",
              "</div>\n",
              "    </div>\n",
              "  </div>\n"
            ]
          },
          "metadata": {},
          "execution_count": 30
        }
      ]
    },
    {
      "cell_type": "markdown",
      "source": [
        "## Preprocessing"
      ],
      "metadata": {
        "id": "6sfo0fy76PCw"
      }
    },
    {
      "cell_type": "markdown",
      "source": [
        "### Summary Statistics"
      ],
      "metadata": {
        "id": "rhO8TL1q93nZ"
      }
    },
    {
      "cell_type": "code",
      "source": [
        "df.describe(include='object')"
      ],
      "metadata": {
        "colab": {
          "base_uri": "https://localhost:8080/",
          "height": 192
        },
        "id": "heC-Y7WV8x5G",
        "outputId": "e12deb4b-39b8-4983-ae5d-8c6222121358"
      },
      "execution_count": 18,
      "outputs": [
        {
          "output_type": "execute_result",
          "data": {
            "text/plain": [
              "                                     Id  \\\n",
              "count                              9500   \n",
              "unique                             9479   \n",
              "top     Ordinal Monte Carlo Tree Search   \n",
              "freq                                  2   \n",
              "\n",
              "                                                    Title            Summary  \\\n",
              "count                                                9500               9500   \n",
              "unique                                               9492               6519   \n",
              "top       Markov decision processes (MDPs) are widely ...  Joseph Y. Halpern   \n",
              "freq                                                    2                 43   \n",
              "\n",
              "                     Authors                          Published  \\\n",
              "count                   9500                               9500   \n",
              "unique                  9401                               9500   \n",
              "top     2012-02-14T16:41:17Z  http://arxiv.org/abs/cs/9308102v1   \n",
              "freq                      25                                  1   \n",
              "\n",
              "       PublicationSource  \n",
              "count               9500  \n",
              "unique                 1  \n",
              "top            arxiv.org  \n",
              "freq                9500  "
            ],
            "text/html": [
              "\n",
              "  <div id=\"df-029a9fa8-c300-47da-af18-e529024fd64b\" class=\"colab-df-container\">\n",
              "    <div>\n",
              "<style scoped>\n",
              "    .dataframe tbody tr th:only-of-type {\n",
              "        vertical-align: middle;\n",
              "    }\n",
              "\n",
              "    .dataframe tbody tr th {\n",
              "        vertical-align: top;\n",
              "    }\n",
              "\n",
              "    .dataframe thead th {\n",
              "        text-align: right;\n",
              "    }\n",
              "</style>\n",
              "<table border=\"1\" class=\"dataframe\">\n",
              "  <thead>\n",
              "    <tr style=\"text-align: right;\">\n",
              "      <th></th>\n",
              "      <th>Id</th>\n",
              "      <th>Title</th>\n",
              "      <th>Summary</th>\n",
              "      <th>Authors</th>\n",
              "      <th>Published</th>\n",
              "      <th>PublicationSource</th>\n",
              "    </tr>\n",
              "  </thead>\n",
              "  <tbody>\n",
              "    <tr>\n",
              "      <th>count</th>\n",
              "      <td>9500</td>\n",
              "      <td>9500</td>\n",
              "      <td>9500</td>\n",
              "      <td>9500</td>\n",
              "      <td>9500</td>\n",
              "      <td>9500</td>\n",
              "    </tr>\n",
              "    <tr>\n",
              "      <th>unique</th>\n",
              "      <td>9479</td>\n",
              "      <td>9492</td>\n",
              "      <td>6519</td>\n",
              "      <td>9401</td>\n",
              "      <td>9500</td>\n",
              "      <td>1</td>\n",
              "    </tr>\n",
              "    <tr>\n",
              "      <th>top</th>\n",
              "      <td>Ordinal Monte Carlo Tree Search</td>\n",
              "      <td>Markov decision processes (MDPs) are widely ...</td>\n",
              "      <td>Joseph Y. Halpern</td>\n",
              "      <td>2012-02-14T16:41:17Z</td>\n",
              "      <td>http://arxiv.org/abs/cs/9308102v1</td>\n",
              "      <td>arxiv.org</td>\n",
              "    </tr>\n",
              "    <tr>\n",
              "      <th>freq</th>\n",
              "      <td>2</td>\n",
              "      <td>2</td>\n",
              "      <td>43</td>\n",
              "      <td>25</td>\n",
              "      <td>1</td>\n",
              "      <td>9500</td>\n",
              "    </tr>\n",
              "  </tbody>\n",
              "</table>\n",
              "</div>\n",
              "    <div class=\"colab-df-buttons\">\n",
              "\n",
              "  <div class=\"colab-df-container\">\n",
              "    <button class=\"colab-df-convert\" onclick=\"convertToInteractive('df-029a9fa8-c300-47da-af18-e529024fd64b')\"\n",
              "            title=\"Convert this dataframe to an interactive table.\"\n",
              "            style=\"display:none;\">\n",
              "\n",
              "  <svg xmlns=\"http://www.w3.org/2000/svg\" height=\"24px\" viewBox=\"0 -960 960 960\">\n",
              "    <path d=\"M120-120v-720h720v720H120Zm60-500h600v-160H180v160Zm220 220h160v-160H400v160Zm0 220h160v-160H400v160ZM180-400h160v-160H180v160Zm440 0h160v-160H620v160ZM180-180h160v-160H180v160Zm440 0h160v-160H620v160Z\"/>\n",
              "  </svg>\n",
              "    </button>\n",
              "\n",
              "  <style>\n",
              "    .colab-df-container {\n",
              "      display:flex;\n",
              "      gap: 12px;\n",
              "    }\n",
              "\n",
              "    .colab-df-convert {\n",
              "      background-color: #E8F0FE;\n",
              "      border: none;\n",
              "      border-radius: 50%;\n",
              "      cursor: pointer;\n",
              "      display: none;\n",
              "      fill: #1967D2;\n",
              "      height: 32px;\n",
              "      padding: 0 0 0 0;\n",
              "      width: 32px;\n",
              "    }\n",
              "\n",
              "    .colab-df-convert:hover {\n",
              "      background-color: #E2EBFA;\n",
              "      box-shadow: 0px 1px 2px rgba(60, 64, 67, 0.3), 0px 1px 3px 1px rgba(60, 64, 67, 0.15);\n",
              "      fill: #174EA6;\n",
              "    }\n",
              "\n",
              "    .colab-df-buttons div {\n",
              "      margin-bottom: 4px;\n",
              "    }\n",
              "\n",
              "    [theme=dark] .colab-df-convert {\n",
              "      background-color: #3B4455;\n",
              "      fill: #D2E3FC;\n",
              "    }\n",
              "\n",
              "    [theme=dark] .colab-df-convert:hover {\n",
              "      background-color: #434B5C;\n",
              "      box-shadow: 0px 1px 3px 1px rgba(0, 0, 0, 0.15);\n",
              "      filter: drop-shadow(0px 1px 2px rgba(0, 0, 0, 0.3));\n",
              "      fill: #FFFFFF;\n",
              "    }\n",
              "  </style>\n",
              "\n",
              "    <script>\n",
              "      const buttonEl =\n",
              "        document.querySelector('#df-029a9fa8-c300-47da-af18-e529024fd64b button.colab-df-convert');\n",
              "      buttonEl.style.display =\n",
              "        google.colab.kernel.accessAllowed ? 'block' : 'none';\n",
              "\n",
              "      async function convertToInteractive(key) {\n",
              "        const element = document.querySelector('#df-029a9fa8-c300-47da-af18-e529024fd64b');\n",
              "        const dataTable =\n",
              "          await google.colab.kernel.invokeFunction('convertToInteractive',\n",
              "                                                    [key], {});\n",
              "        if (!dataTable) return;\n",
              "\n",
              "        const docLinkHtml = 'Like what you see? Visit the ' +\n",
              "          '<a target=\"_blank\" href=https://colab.research.google.com/notebooks/data_table.ipynb>data table notebook</a>'\n",
              "          + ' to learn more about interactive tables.';\n",
              "        element.innerHTML = '';\n",
              "        dataTable['output_type'] = 'display_data';\n",
              "        await google.colab.output.renderOutput(dataTable, element);\n",
              "        const docLink = document.createElement('div');\n",
              "        docLink.innerHTML = docLinkHtml;\n",
              "        element.appendChild(docLink);\n",
              "      }\n",
              "    </script>\n",
              "  </div>\n",
              "\n",
              "\n",
              "<div id=\"df-c8ffb632-6ad4-4d71-97cc-2ebe1c1c02ae\">\n",
              "  <button class=\"colab-df-quickchart\" onclick=\"quickchart('df-c8ffb632-6ad4-4d71-97cc-2ebe1c1c02ae')\"\n",
              "            title=\"Suggest charts.\"\n",
              "            style=\"display:none;\">\n",
              "\n",
              "<svg xmlns=\"http://www.w3.org/2000/svg\" height=\"24px\"viewBox=\"0 0 24 24\"\n",
              "     width=\"24px\">\n",
              "    <g>\n",
              "        <path d=\"M19 3H5c-1.1 0-2 .9-2 2v14c0 1.1.9 2 2 2h14c1.1 0 2-.9 2-2V5c0-1.1-.9-2-2-2zM9 17H7v-7h2v7zm4 0h-2V7h2v10zm4 0h-2v-4h2v4z\"/>\n",
              "    </g>\n",
              "</svg>\n",
              "  </button>\n",
              "\n",
              "<style>\n",
              "  .colab-df-quickchart {\n",
              "      --bg-color: #E8F0FE;\n",
              "      --fill-color: #1967D2;\n",
              "      --hover-bg-color: #E2EBFA;\n",
              "      --hover-fill-color: #174EA6;\n",
              "      --disabled-fill-color: #AAA;\n",
              "      --disabled-bg-color: #DDD;\n",
              "  }\n",
              "\n",
              "  [theme=dark] .colab-df-quickchart {\n",
              "      --bg-color: #3B4455;\n",
              "      --fill-color: #D2E3FC;\n",
              "      --hover-bg-color: #434B5C;\n",
              "      --hover-fill-color: #FFFFFF;\n",
              "      --disabled-bg-color: #3B4455;\n",
              "      --disabled-fill-color: #666;\n",
              "  }\n",
              "\n",
              "  .colab-df-quickchart {\n",
              "    background-color: var(--bg-color);\n",
              "    border: none;\n",
              "    border-radius: 50%;\n",
              "    cursor: pointer;\n",
              "    display: none;\n",
              "    fill: var(--fill-color);\n",
              "    height: 32px;\n",
              "    padding: 0;\n",
              "    width: 32px;\n",
              "  }\n",
              "\n",
              "  .colab-df-quickchart:hover {\n",
              "    background-color: var(--hover-bg-color);\n",
              "    box-shadow: 0 1px 2px rgba(60, 64, 67, 0.3), 0 1px 3px 1px rgba(60, 64, 67, 0.15);\n",
              "    fill: var(--button-hover-fill-color);\n",
              "  }\n",
              "\n",
              "  .colab-df-quickchart-complete:disabled,\n",
              "  .colab-df-quickchart-complete:disabled:hover {\n",
              "    background-color: var(--disabled-bg-color);\n",
              "    fill: var(--disabled-fill-color);\n",
              "    box-shadow: none;\n",
              "  }\n",
              "\n",
              "  .colab-df-spinner {\n",
              "    border: 2px solid var(--fill-color);\n",
              "    border-color: transparent;\n",
              "    border-bottom-color: var(--fill-color);\n",
              "    animation:\n",
              "      spin 1s steps(1) infinite;\n",
              "  }\n",
              "\n",
              "  @keyframes spin {\n",
              "    0% {\n",
              "      border-color: transparent;\n",
              "      border-bottom-color: var(--fill-color);\n",
              "      border-left-color: var(--fill-color);\n",
              "    }\n",
              "    20% {\n",
              "      border-color: transparent;\n",
              "      border-left-color: var(--fill-color);\n",
              "      border-top-color: var(--fill-color);\n",
              "    }\n",
              "    30% {\n",
              "      border-color: transparent;\n",
              "      border-left-color: var(--fill-color);\n",
              "      border-top-color: var(--fill-color);\n",
              "      border-right-color: var(--fill-color);\n",
              "    }\n",
              "    40% {\n",
              "      border-color: transparent;\n",
              "      border-right-color: var(--fill-color);\n",
              "      border-top-color: var(--fill-color);\n",
              "    }\n",
              "    60% {\n",
              "      border-color: transparent;\n",
              "      border-right-color: var(--fill-color);\n",
              "    }\n",
              "    80% {\n",
              "      border-color: transparent;\n",
              "      border-right-color: var(--fill-color);\n",
              "      border-bottom-color: var(--fill-color);\n",
              "    }\n",
              "    90% {\n",
              "      border-color: transparent;\n",
              "      border-bottom-color: var(--fill-color);\n",
              "    }\n",
              "  }\n",
              "</style>\n",
              "\n",
              "  <script>\n",
              "    async function quickchart(key) {\n",
              "      const quickchartButtonEl =\n",
              "        document.querySelector('#' + key + ' button');\n",
              "      quickchartButtonEl.disabled = true;  // To prevent multiple clicks.\n",
              "      quickchartButtonEl.classList.add('colab-df-spinner');\n",
              "      try {\n",
              "        const charts = await google.colab.kernel.invokeFunction(\n",
              "            'suggestCharts', [key], {});\n",
              "      } catch (error) {\n",
              "        console.error('Error during call to suggestCharts:', error);\n",
              "      }\n",
              "      quickchartButtonEl.classList.remove('colab-df-spinner');\n",
              "      quickchartButtonEl.classList.add('colab-df-quickchart-complete');\n",
              "    }\n",
              "    (() => {\n",
              "      let quickchartButtonEl =\n",
              "        document.querySelector('#df-c8ffb632-6ad4-4d71-97cc-2ebe1c1c02ae button');\n",
              "      quickchartButtonEl.style.display =\n",
              "        google.colab.kernel.accessAllowed ? 'block' : 'none';\n",
              "    })();\n",
              "  </script>\n",
              "</div>\n",
              "    </div>\n",
              "  </div>\n"
            ]
          },
          "metadata": {},
          "execution_count": 18
        }
      ]
    },
    {
      "cell_type": "markdown",
      "source": [
        "### Handling Missing Data/Null Values"
      ],
      "metadata": {
        "id": "jpC-iCNi9FBY"
      }
    },
    {
      "cell_type": "code",
      "source": [
        "df.isna().sum()"
      ],
      "metadata": {
        "colab": {
          "base_uri": "https://localhost:8080/"
        },
        "id": "OlOSXo2K88BF",
        "outputId": "d91c934d-80b1-48a8-9485-946f27b87183"
      },
      "execution_count": 19,
      "outputs": [
        {
          "output_type": "execute_result",
          "data": {
            "text/plain": [
              "Id                   0\n",
              "Title                0\n",
              "Summary              0\n",
              "Authors              0\n",
              "Published            0\n",
              "PublicationSource    0\n",
              "dtype: int64"
            ]
          },
          "metadata": {},
          "execution_count": 19
        }
      ]
    },
    {
      "cell_type": "code",
      "source": [
        "df.nunique()"
      ],
      "metadata": {
        "colab": {
          "base_uri": "https://localhost:8080/"
        },
        "id": "pjYNPrnh9D7C",
        "outputId": "ab40032f-5406-4f99-e77c-094f6a7de7cc"
      },
      "execution_count": 20,
      "outputs": [
        {
          "output_type": "execute_result",
          "data": {
            "text/plain": [
              "Id                   9479\n",
              "Title                9492\n",
              "Summary              6519\n",
              "Authors              9401\n",
              "Published            9500\n",
              "PublicationSource       1\n",
              "dtype: int64"
            ]
          },
          "metadata": {},
          "execution_count": 20
        }
      ]
    },
    {
      "cell_type": "markdown",
      "source": [
        "### Exploring Title length for different papers"
      ],
      "metadata": {
        "id": "8mNXR3X0A4iz"
      }
    },
    {
      "cell_type": "code",
      "source": [
        "df['Title'].str.len().hist()"
      ],
      "metadata": {
        "colab": {
          "base_uri": "https://localhost:8080/",
          "height": 448
        },
        "id": "cfO1EFNR-iCN",
        "outputId": "ffac27ab-922c-47bb-9790-c86e401622dc"
      },
      "execution_count": 31,
      "outputs": [
        {
          "output_type": "execute_result",
          "data": {
            "text/plain": [
              "<Axes: >"
            ]
          },
          "metadata": {},
          "execution_count": 31
        },
        {
          "output_type": "display_data",
          "data": {
            "text/plain": [
              "<Figure size 640x480 with 1 Axes>"
            ],
            "image/png": "[encoded data removed]"
          },
          "metadata": {}
        }
      ]
    },
    {
      "cell_type": "markdown",
      "source": [
        "### Stopwords analysis"
      ],
      "metadata": {
        "id": "-f43k-hw_MjX"
      }
    },
    {
      "cell_type": "code",
      "source": [
        "import matplotlib.pyplot as plt\n",
        "import numpy as np\n",
        "from nltk.corpus import stopwords\n",
        "\n",
        "def plot_top_stopwords_barchart(text):\n",
        "    stop=set(stopwords.words('english'))\n",
        "\n",
        "    new= text.str.split()\n",
        "    new=new.values.tolist()\n",
        "    corpus=[word for i in new for word in i]\n",
        "    from collections import defaultdict\n",
        "    dic=defaultdict(int)\n",
        "    for word in corpus:\n",
        "        if word in stop:\n",
        "            dic[word]+=1\n",
        "\n",
        "    top=sorted(dic.items(), key=lambda x:x[1],reverse=True)[:10]\n",
        "    x,y=zip(*top)\n",
        "    plt.bar(x,y)"
      ],
      "metadata": {
        "id": "1XYin3cqAQIn"
      },
      "execution_count": 33,
      "outputs": []
    },
    {
      "cell_type": "code",
      "source": [
        "plot_top_stopwords_barchart(df['Title'])\n"
      ],
      "metadata": {
        "colab": {
          "base_uri": "https://localhost:8080/",
          "height": 430
        },
        "id": "5FDZqCBbASZr",
        "outputId": "ce6ad48a-8953-4184-8959-3514126b2a8c"
      },
      "execution_count": 35,
      "outputs": [
        {
          "output_type": "display_data",
          "data": {
            "text/plain": [
              "<Figure size 640x480 with 1 Axes>"
            ],
            "image/png": "[encoded data removed]"
          },
          "metadata": {}
        }
      ]
    },
    {
      "cell_type": "code",
      "source": [
        "\n",
        "import seaborn as sns\n",
        "from nltk.corpus import stopwords\n",
        "from collections import  Counter\n",
        "\n",
        "def plot_top_non_stopwords_barchart(text):\n",
        "    stop=set(stopwords.words('english'))\n",
        "\n",
        "    new= text.str.split()\n",
        "    new=new.values.tolist()\n",
        "    corpus=[word for i in new for word in i]\n",
        "\n",
        "    counter=Counter(corpus)\n",
        "    most=counter.most_common()\n",
        "    x, y=[], []\n",
        "    for word,count in most[:40]:\n",
        "        if (word not in stop):\n",
        "            x.append(word)\n",
        "            y.append(count)\n",
        "\n",
        "    sns.barplot(x=y,y=x)"
      ],
      "metadata": {
        "id": "PEO2NhDZ_EZz"
      },
      "execution_count": 26,
      "outputs": []
    },
    {
      "cell_type": "code",
      "source": [
        "plot_top_non_stopwords_barchart(df['Title'])"
      ],
      "metadata": {
        "colab": {
          "base_uri": "https://localhost:8080/",
          "height": 430
        },
        "id": "aXRbqTbs_QI6",
        "outputId": "cef65cfa-1e06-4708-9a0c-adaba87172b7"
      },
      "execution_count": 32,
      "outputs": [
        {
          "output_type": "display_data",
          "data": {
            "text/plain": [
              "<Figure size 640x480 with 1 Axes>"
            ],
            "image/png": "[encoded data removed]"
          },
          "metadata": {}
        }
      ]
    },
    {
      "cell_type": "code",
      "source": [],
      "metadata": {
        "id": "xxtjIfXv_pUC"
      },
      "execution_count": null,
      "outputs": []
    }
  ]
}